{
  "cells": [
    {
      "cell_type": "markdown",
      "metadata": {
        "id": "bxSfB7E17vMw"
      },
      "source": [
        "## Ομάδα \n",
        "\n",
        "Στοιχεία Μέλους 1: Αθανασίου Ιωάννης, 03117041\n",
        "\n",
        "Στοιχεία Μέλους 2: -"
      ]
    },
    {
      "cell_type": "markdown",
      "metadata": {
        "id": "CCcGFAb8nULW"
      },
      "source": [
        "# Τεχνητή Νοημοσύνη: Εργαστηριακή Άσκηση 1\n",
        "\n",
        "    \n",
        "\n",
        "---\n",
        "\n",
        "\n",
        "\n",
        "Ο στόχος της εργασίας είναι η εφαρμογή αλγορίθμων αναζήτησης και εύρεσης καλύτερου μονοπατιού σε λαβύρινθο διαστάσεων $N\\times N$\n"
      ]
    },
    {
      "cell_type": "markdown",
      "metadata": {
        "id": "PPcLy1P7naLP"
      },
      "source": [
        "# Εκφώνηση\n",
        "\n",
        "## Μέρος 1\n",
        "Ο στόχος του πρώτου μέρους είναι η κατασκευή **λαβυρίνθων**. [Σε αυτό το άρθρο της Wikipedia](https://en.wikipedia.org/wiki/Maze_generation_algorithm) μπορείτε να βρείτε διάφορους αλγορίθμους για αυτό το σκοπό. Προσέξτε ότι οι αλγόριθμοι του παραπάνω άρθρου κατασκευάζουν ένα μόνο μονοπάτι από κάθε σημείο του λαβυρίνθου προς οποιοδήποτε άλλο (η δομή του λαβυρίνθου έχει μορφή συνεκτικού δέντρου). Καλείστε να τροποποιήσετε τον αλγόριθμο της επιλογής σας (ενδεχομένως και πέραν αυτών που υπάρχουν στο προαναφερθέν άρθρο) ώστε οι λαβύρινθοι που κατασκευάζει να έχουν τουλάχιστον δύο (2) μονοπάτια μεταξύ ενός σημείου αφετηρίας (S) και ενός σημείου τερματισμού (F). Η τροποποίηση του αλγορίθμου μπορεί να γίνει και με πιθανοτικό τρόπο, αλλά σε αυτή την περίπτωση θα πρέπει να βεβαιωθείτε πως οι λαβύρινθοι που θα χρησιμοποιήσετε στα επόμενα ερωτήματα έχουν τουλάχιστον δύο μονοπάτια μεταξύ των S και F. Αναφέρετε ποιον αλγόριθμο επιλέξατε, περιγράψτε τον συνοπτικά καθώς και τον τρόπο που αντιμετωπίσατε το παραπάνω πρόβλημα, και υλοποιήστε τον στο κελί κώδικα του Μέρους 1.\n",
        "\n",
        "Σε όλα τα ερωτήματα φροντίστε να χρησιμοποιήσετε **δομημένο** κώδικα, με **σχόλια** που επισημαίνουν τη λογική του.\n",
        "\n",
        "\n",
        "### Παραδείγματα λαβυρίνθων\n",
        "![index1.png](data:image/png;base64,iVBORw0KGgoAAAANSUhEUgAAAOsAAADrCAYAAACICmHVAAAABHNCSVQICAgIfAhkiAAAAAlwSFlzAAALEgAACxIB0t1+/AAAADh0RVh0U29mdHdhcmUAbWF0cGxvdGxpYiB2ZXJzaW9uMy4yLjIsIGh0dHA6Ly9tYXRwbG90bGliLm9yZy+WH4yJAAADhUlEQVR4nO3dwW0UMQCGURvRB0VsBXRBi+mCCuiBOz0MlxyDYJF3x9/se8ckGo3W+uRIkf7M4zgGsL9PZ78A8G/EChFihQixQoRYIUKsEPH5nh+ec/o7DzzYcRzzo6+7WSFCrBAhVogQK0SIFSLEChFihQixQoRYIUKsECFWiBArRIgVIsQKEWKFCLFChFghQqwQcdesy2o7/zeA29vXpc/78e370uft/Nm9mjk/XGFZzs0KEWKFCLFChFghQqwQIVaIECtEiBUixAoRYoUIsUKEWCFCrBAhVogQK0SIFSLEChFihQixQsSpG0yrPWsL54pe6bOr7le5WSFCrBAhVogQK0SIFSLEChFihQixQoRYIUKsECFWiBArRIgVIsQKEWKFCLFChFghQqwQcalZl53nOl5pNmWMvc+iys0KEWKFCLFChFghQqwQIVaIECtEiBUixAoRYoUIsUKEWCFCrBAhVogQK0SIFSLEChFihQixQsSlNphW7hzZENqLs3WzQoZYIUKsECFWiBArRIgVIsQKEWKFCLFChFghQqwQIVaIECtEiBUixAoRYoUIsUKEWCFCrBBxqQ2mnbd1dn63Ap+fmxUyxAoRYoUIsUKEWCFCrBAhVogQK0SIFSLEChFihQixQoRYIUKsECFWiBArRIgVIsQKEWKFiEttMM05z34FHmTl2Vb3nNysECFWiBArRIgVIsQKEWKFCLFChFghQqwQIVaIECtEiBUixAoRYoUIsUKEWCFCrBAhVogQK0RcaoOpuq3D360827fbbdmznsnNChFihQixQoRYIUKsECFWiBArRIgVIsQKEWKFCLFChFghQqwQIVaIECtEiBUixAoRYoUIsULEpTaY5pxnvwLvVu9hOVs3K2SIFSLEChFihQixQoRYIUKsECFWiBArRIgVIsQKEWKFCLFChFghQqwQIVaIECtEiBUiLjXrsnpKhH3sfLbPmpxxs0KEWCFCrBAhVogQK0SIFSLEChFihQixQoRYIUKsECFWiBArRIgVIsQKEWKFCLFChFghQqwQceoG07O2a+AK3KwQIVaIECtEiBUixAoRYoUIsUKEWCFCrBAhVogQK0SIFSLEChFihQixQoRYIUKsECFWiBArRNy7wfRrjPHzES8CjDHG+PKnb8zjOJ75IsB/8mswRIgVIsQKEWKFCLFChFghQqwQIVaIECtE/AZROUHZqFYHAAAAAABJRU5ErkJggg==)\n",
        "![index2.png](data:image/png;base64,iVBORw0KGgoAAAANSUhEUgAAAOsAAADrCAYAAACICmHVAAAABHNCSVQICAgIfAhkiAAAAAlwSFlzAAALEgAACxIB0t1+/AAAADh0RVh0U29mdHdhcmUAbWF0cGxvdGxpYiB2ZXJzaW9uMy4yLjIsIGh0dHA6Ly9tYXRwbG90bGliLm9yZy+WH4yJAAAEvklEQVR4nO3d0W0bRxRA0WWQPlKEKkgXadFduAL3kP/0wPwKiBQu7eHwXeqcz9iIhyNfjIE3u7xcr9cDmO+3Zy8AOEesECFWiBArRIgVIsQKEb/f85svl4s5DzzY9Xq9fPTfnawQIVaIECtEiBUixAoRYoUIsULEXXPWMzxyB5+7XD4coZ7iZIUIsUKEWCFCrBAhVogQK0SIFSKWz1lvOTNnOjOr/ZV51Ve2am9v/X++6s/nkfcMnKwQIVaIECtEiBUixAoRYoUIsUKEWCFi+6WInVYMqN++/Xnz9/z46/vD13FW6TLCrgsaqzx7b52sECFWiBArRIgVIsQKEWKFCLFChFghYuSliF3D52cPud+bNPx/Na+yt05WiBArRIgVIsQKEWKFCLFChFghQqwQsf1SRGH4/N6ur/JYtS9T9nfKOl6JkxUixAoRYoUIsUKEWCFCrBAhVohYPmed9ED3FKv2ZNfM9ww/5/2crBAhVogQK0SIFSLEChFihQixQoRYIWL5pQgPHf/XpD2ZtBbu42SFCLFChFghQqwQIVaIECtEiBUixAoR29/Iv/MNA7cuAEx624G1cIuTFSLEChFihQixQoRYIUKsECFWiMh+8/muWeCkh7Wt5ee8ytzYyQoRYoUIsUKEWCFCrBAhVogQK0SIFSKWX4pYMYAuDdyPY9bQfcpazqzjzM95yueZwMkKEWKFCLFChFghQqwQIVaIECtEiBUill+KqF1o2GHSnkxayxkr1rvqYsWz987JChFihQixQoRYIUKsECFWiBArRIgVIrZ/fcaqNwiUTBrKT3rzwivuyyP/7jpZIUKsECFWiBArRIgVIsQKEWKFiO1z1kl2zXMnzY0nrWWSwr44WSFCrBAhVogQK0SIFSLEChFihQixQsSXvhTxig9irzBpLZM8e1+crBAhVogQK0SIFSLEChFihQixQoRYIWL7pYhJT+RPWssZpTdbfMVvXjiO25/pVy5WOFkhQqwQIVaIECtEiBUixAoRYoUIsULE9ksRz37a/r1Ja1ll12fadaFhxeWKV7mg4WSFCLFChFghQqwQIVaIECtEiBUiRr6Rv/SQ9SqvNh9dZcV6a5/5M05WiBArRIgVIsQKEWKFCLFChFghQqwQMfJSxBmTLhHcWsuqofyuzzzpofxJa3k2JytEiBUixAoRYoUIsUKEWCFCrBAhVojYfili51P7j/zK+NUmXZyovVmhtt6f5WSFCLFChFghQqwQIVaIECtEiBUivvQ3n++y6jOvmCfuWsvObxuf9HfqkTNfJytEiBUixAoRYoUIsUKEWCFCrBAhVogY+Ub+XQ8Tr/pzSpcVanbtbWHfnKwQIVaIECtEiBUixAoRYoUIsUKEWCFi5KWISW8z2LGOsya9EWGF2kWQZ1+ucLJChFghQqwQIVaIECtEiBUixAoRYoWI7ZciJj2RP+mywqR9qfn29va/v/4qe+tkhQixQoRYIUKsECFWiBArRIgVIi73zKAul8trDKxgsOv1+uHg3skKEWKFCLFChFghQqwQIVaIECtEiBUi7n34/J/jOP5+xEKA4ziO44/PfuGuG0zA8/hnMESIFSLEChFihQixQoRYIUKsECFWiBArRPwLUNQF44aEdWwAAAAASUVORK5CYII=)\n",
        "![index3.png](data:image/png;base64,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)"
      ]
    },
    {
      "cell_type": "markdown",
      "metadata": {
        "id": "hrKnkVsr61N-"
      },
      "source": [
        "## Μέρος 2\n",
        "\n",
        "Στο δεύτερο μέρος της εργασίας θα υλοποιήσετε τον αλγόριθμο Α* για την εύρεση συντομότερων μονοπατιών μεταξύ δυο κόμβων για τους λαβυρίνθους που παράγονται από τον κώδικα του πρώτου μέρους. Θα κατασκευάσετε και διάφορες συναρτήσεις κόστους τόσο για την μέτρηση των πραγματικών αποστάσεων όσο και για την εκτίμηση των αποστάσεων από έναν κόμβο στον κόμβο στόχο (heuristic).\n",
        "\n",
        "Η γενική μορφή της συνάρτησης κόστους στον αλγόριθμο Α* είναι:\n",
        "$$f(n)=g(n)+h(n)$$\n",
        "Παραπάνω, η συνάρτηση $g(n)$ δίνει την πραγματική απόσταση από το σημείο εκκίνησης μέχρι τον κόμβο $n$, και η συνάρτηση $h(n)$ αποτελεί μια ευριστική της απόστασης από τον κόμβο $n$ μέχρι τον στόχο. Σας ζητείται να πειραματιστείτε με τις εξής επιλογές για τις δύο συναρτήσεις:\n",
        "* $g(n)=0$ και $h(n)=\\{\\text{manhattan}(n),\\text{euclidean}(n)\\}$. Ποιος αλγόριθμος αναζήτησης προκύπτει; Μπορεί να βρει πάντα το βέλτιστο μονοπάτι;\n",
        "* $g(n)=1$ και $h(n)=0$. Ποιος αλγόριθμος αναζήτησης προκύπτει; Μπορεί να βρει πάντα το βέλτιστο μονοπάτι;\n",
        "* $g(n)=1$ και $h(n)=\\{\\text{manhattan}(n),\\text{euclidean}(n)\\}$. Ποιος αλγόριθμος αναζήτησης προκύπτει; Μπορεί να βρει πάντα το βέλτιστο μονοπάτι;\n",
        "\n",
        "Μπορείτε να προτείνετε και άλλες ευριστικές συναρτήσεις εκτός από τις αποστάσεις manhattan και euclidean;"
      ]
    },
    {
      "cell_type": "markdown",
      "metadata": {
        "id": "HBVzpYPF9WC_"
      },
      "source": [
        "## Μέρος 3\n",
        "\n",
        "Στο τρίτο μέρος καλείστε να συγκρίνετε την απόδοση των αλγορίθμων που υλοποιήσατε στο πρώτο μέρος, με βάση την πολυπλοκότητά τους και το κατά πόσο μπορούν να βρούν το βέλτιστο μονοπάτι. \n",
        " \n",
        "Αρχικά, θα πρέπει να κατασκευάσετε πλήθος λαβυρίνθων με μέγεθος $N\\in[10,11, \\ldots,50]$ (τουλάχιστον 10 λαβυρίνθους για κάθε Ν).\n",
        "\n",
        "Έπειτα, για τους τρεις αλγορίθμους που υλοποιήσατε στο δεύτερο μέρος, καθώς και για ό,τι επιπλέον υλοποιήσατε (πχ επιπλέον ευριστικές), ζητείται να συλλέξετε τα εξής χαρακτηριστικά:\n",
        " * το μήκος του ελάχιστου μονοπατιού που εξάγει ο εκάστοτε αλγόριθμος.\n",
        " * το πλήθος των επεκτεταμένων κόμβων (expanded nodes) του κάθε αλγορίθμου, που αποτελεί μέτρο της πολυπλοκότητάς του.\n",
        " \n",
        "Για να σας είναι εύκολο να εξάγετε συμπεράσματα από τις παραπάνω παραμετροποιήσεις, ζητείται να κατασκευάσετε δύο γραφικές παραστάσεις:\n",
        " * το μήκος του ελάχιστου μονοπατιού συναρτήσει του μεγέθους του χάρτη\n",
        " * το πλήθος των expanded nodes συναρτήσει του μεγέθους του χάρτη\n",
        "\n",
        "Ένα παράδειγμα φαίνεται παρακάτω:\n",
        "\n",
        "![image.png](data:image/png;base64,iVBORw0KGgoAAAANSUhEUgAAAX0AAAEICAYAAACzliQjAAAgAElEQVR4Ae2dCZgU1bn+3/yz3tx7TaJJ7vWqRI27uDEmiho1GqNxiYlRo8Ytmmjcg4mKqOw7Ai7sCLKviizDDDAMOwwMwz4DDMywwwDDzrAMMH7/561lqOnpnumlqru6+zvP009VV9U5depX1W+d/s53vgNoUgJKQAkoASWgBJSAElACSkAJKAEloASUgBJQAkpACSgBJaAElIASUAJKQAkoASWgBJSAElACSkAJKAEloASUgBJQAkogxQncDmBblNcYS95oTjkIQNtoMqZhngYAKgB8Mw2vXS9ZCSSMwCYAx6wfH3+A/PRIWG2CnzgW4a4vrwBYBeD/OU5N0aZ4R5NU9KOhpnmUgBKIGwGK/m/idrboTlSfcNdVan15Kfp7ATzhKERF3wFDV5WAEkgtAnWJfm8AXzoutxOAXADfAGCLaTMAewCwnL84jr0PwDIAhwBsBdDSse98ABTbZwBssfK/59j/H1ZLez+A1QDeCjDv/J9Vr3IAGwG8HkFex6HGKuvxDoD1AL5l7QwU/d8DKAJwAMAsAJc7CrkOwFIAhwGMBjAqwLxzP4DlVt4FAK525OV5t1t5iwHc6dhnr94AYGeACeSPAFZaB/wSQIHFeReAbnbGgKV9v94GsBtAGYA/ALgXwDoA+wDwXtqJ5eZZ9eax/Pf3HXundf/IfYN1/7oE/FtyHIpQdbSfA3JvHPBv87j1TLEc/gtrCqDUekGPAXCm8wS6rgSUQPgE6hL971uC8CyAX1k/7nOtoikipyyR+S6A2wAcAXCpY/9V1g+WQkdBosgw2T/2/gAo8NcAqHSIaUcAc60f9nkACh2iTwFYAqC5JUIXWsJzt1V2XXmtQ2osKPoXW2X+zdrjFP1LrOu6C8C3AVA0S6xzUwQ3A2hi7XsYwEmH6POFQIGlcNNuzZcceZMXOfFlyBcYE5n83FoPXFDseH47jbVEkN8pzE9ZO/4LwI32QQFL+36RG6/j7wD40hwB4L8BXGmZ+S6w8mVYZVGQWbc1AP7pKJPcZlr3iLZ5vjhsfo7DjNVQdbSfA/tla+dj/WYD6GBteAPAQgB89siuL4CR9sG6VAJKIDICFCHa8dmKtT8UBDtRsNgKpLg9bm+0WvoU/f90bGML7APHd+fqRwC6WxvsH7v9AuHmfACPWfvZerzHkfkFh+izPvx34EzvAvjc2lBXXmcee53idZHV4uU1Usidos/r4XXZiS8dts4porcC2GH987H3szXP/Ez8p9TGWrcXbNHzBclz8oVA0xpFrq7E8gZaB1Cg+XL9mfV9DoBWAH5cVwFWfdl3Y3eashxeO3naiS9T+8Vsb7OXFPyv7C9WXuc9etn6F+g4pHo1VB3t5yBQ9Mkt0/HPgS8c57+gs62Xa2C+6hPqihJQAqEJ1NXSt3PRfEChtQWD2yl6bCk6E//i8wfLRDFhS5DHHATAv+tDrX3Bfuw0m9gtRR7Llqed2Iq3vXcetf5h2C8oLmlaybIOriuvXZ5zaYs+t80H8FqA6PN6eF3OxFYnTVl8SS127rBaoLbos05HHS9T1pXf7Zcn+xHmAaAZi2Yhu9UfUCSusMpgK5f/FvgvyE78l8JWL01srAvNScES75fNkPspmLx23gs7sS5PWl/4D4fCS9MSTXSst/O8zOu8RzTnUZyDpVB1DPYcvGiVc4ajIJ6bdXDec97ncxzH6KoSUAJhEqhP9F+xvFsodGxR28k2Fzhb+rRp2y19miRo9vielYEt/WHWerAfu1P0aad3tiL5z8MWLNp+aX8PlerKGyyPU/R5TbRf0y5ue+8EtvTZn2G39NliD2zp88Vhiz7NEM6+imDn5zYKHIXbfikGO26F1QqfCuClIAfwHwjNSxRD5z2xD41U9Nl386Fl+mEZbOnzpWAncnPeI9aJeepKgXUMfA5oQuS/H75wnIn/jm52btB1JaAEoidQl+jzx8dWKG3ubK1x/VrrVLboUxhoEuEPlmaHy6z9/PGyVcrEjjx+D1f02WFMm+6PLDsuOy1t0ee/DXacshOU/QH83hDAL6xz1ZXXOqTGwin63JFjdRbaok/bO6+L5gWaYf5t9SHwmvnhPyDanLnvoQCb/vWW3Z7/eviyoBizRUzTCsu9w7JRsxyabwbXqFnNL7xe/nOiicZpymHL/CfWoTQVUfTJJTBFKvo0t9H+z3rznlJ4A0WfIs97xH6XtQBohguWQtXRKfosgy9c54vELouNBzYKbJMWr/dBe6culYASiIwART/QT5+2W/795w+fXhN2YmuOPu00M9giwpYsTQsUP7tDkcez1UkbOU0vNBPQ+yNc0WcH8hDr73wo7x22jGl64IuI/0Jst9P68trXYi8DRZ8CzW226PM4esuwHjRT8WXkNGtQ2OmlZHvv8N+O3dJnXooYzS40TVDU2AlL0WfnNvkyH/tMyCiUeYflsLP0awCT7YpbSzLlC5X9MvQwCmWTt++Xnb0+8w77KyjkLJdmndZBRN/23qHLa9cA8599Hi5D1dEp+nQW4PXxfPaH18PEfwhvWi8e8uK/yPbWPl0oASUQJwKBIhKn0+ppfEIg8GXpk2ppNZSAEvCKgIq+V2STo1wV/eS4T1pLJeAaARV911AmZUEq+kl527TSSkAJKAEloASUgBJQAkpACSgBXxI466yzJCMjQz/KQJ8BfQb0GYjgGQgyuNKXGl+rUhR8TUpACSgBJRAZAStQXy1N9f0GFf3IbrQerQSUgBIggVhFn6MJOUCE0RDtxHglHNzB0ZQc7PNDe4c1nJ+RCjnKz46OyN0cyMJt3OccFOTIWnNVRV8fYCWgBJRA5ARiFX2O3msUIPq/dcQn59B4fpgYPIpxRDiqk2FcObqOQ+n54TpD5XJYOo/hsXUmFf3Ib7bmUAJKQAnEKvoUZg6pdrb0nWLNYezDrQ0M2uUM3MUAUgyixQ/X7RR4nL29xjKY6J84cUI2bNggq1evTosPr5XXrEkJKAElEC4Br0V/kiNkK2Ow2OFbKeADrDgtjNXymUPRGccl1FytDOzEcL8FDRo0qHWNFMHy8nL5+uuva+1LtQ28Rl4rr1mTElACSiBcAl6KPgNy0abPaH1Mboi+VRQQrKXPFn46CL59c3mtvGZNSkAJKIFwCXgl+oycx6nSGPnQToFmG9fNO+kogOl4zeE+3HqcElACtQl4Ifr0xGE4WjvWty36DEvr7Mjl9HbsxGWoV66zc9fuyHWGsLXz11iGaunXvsTU3qKin9r3V68u/Qjkb9wrXaeuNT/TiqXrtGLpZn265xQLP6PyN0cNJlbRZ2xzxgrnpNCc7OJ5y+2SEz8vtz59HGpNkw89deie+TvH9nutCZa5L5wZh0Kad6Im4XHGn/3sZ4YNPtzTzJ49W6677jr55je/KWPHjg2ZTUU/JBrdoQSSjsCJU1VyQ7vp8rN3Muv8PNhjXtTXFqvoO3Q7vqvJ1tKPVPQ3btwoK1askKeeekpFP+rHWzMqgeQikLlihyH2OUU7a1Sc/Xf8VFWd/tQ4IIIvKvoRwArn0AcffFAaNWokV1xxhfTt27c6i1P0W7duLZdcconcfPPN8thjj0mXLl2qjwtceeaZZ1T0A6HodyWQogQe6b1AbumUK6eqvPNATFnRbzmxUB7ts8DVD8usL+3du9c45OjRo3LllVfKnj17jO+26Ofn58s111wjx44dk0OHDslFF12kol8fVN2vBNKAQOH2A0Yrv9/sUk+vVkU/ghdDOKLfokULufrqq43PGWecIXl5ecYNtEW/e/fu0rx58+qb2qRJExX9ahq6ogTSl8BbY5fLZe9ny4Ej3g64TFnRT8SjM3PmTMNkc+TIEeP0t912m3Abk4p+Iu6InlMJJAeBfRWVcsl7WfLuuJWeV1hF30XE48ePl/vvv98occ2aNfLd7363lujTvEOvHJp3Dh8+LBdffLG29F28B1qUEkhGAr1mlhimnbVlhzyvvoq+i4iPHz8u99xzj1x22WXCDt1gLX2ejiYgiv0tt9wiDz30kPTr169WLfhyOOecc+T73/++nHnmmUbHcK2DRHREbjAouk0JJBGBk6eq5KYOufJYX9MU7HXVVfS9JhykfLbwmWgGouvpkiVLghwV3ib10w+Pkx6lBPxKIHtVmdHK5zIeSUU/HpQDzvH4448bHjyXXnqptG/fPmBvZF9V9CPjpUcrAb8R+HPfBUZLny3+eCQV/XhQ9vAcKvoewtWilYDHBNaUHTRa+bTpxyup6MeLtEfnUdH3CKwWqwTiQKDplysNrx1678QrqejHi7RH51HR9wisFqsEPCZAf3z65b89doXHZ6pZvIp+TR5J901FP+lumVZYCRgEOPKWgdWKth+MKxEV/bjidv9kKvruM9USlYDXBBhbhzF2GGsn3klFP07E7RG54Z6ua9eucvnll8tVV10ld9xxh2zatCloVhX9oFh0oxJIGIEFJXuMePd12emnFe00WvmMqhnvpKIfJ+KRiv6MGTMMP35Wr1evXvLoo48GramKflAsulEJJITAkcqTcm2rqYag//zdyfLc5/kyftk2qTh+skZ9/tJ/oRE3n/Hz451U9F0m7nZoZVZv6dKlctNNNwWtqYp+UCy6UQkkhMDAeRsMwR+dv0XaT14tN7Y3J0Rhh+2rI5YK4+TThk9b/qe56xJSx9QV/ax3RAbe6+6HZdaT3A6tzNO98sor0qZNm6BnVtEPikU3KoG4E2CrvXH76TXs9Jz0ZNGGvdJs3MrqfwAXNM2Ui9/Lkj2Hj8e9jjyhin4kL4YwRN/t0MpDhw6VG264QRjXJ1hS0Q9GRbcpgfgTGFuw1WjBz1izK+jJ+VLgviajlonXMfODVsDamLqiX9dVe7TP7dDKOTk5RvC2XbuCP0S8DBV9j26mFqsEIiDAFv2dXWfJ3d1nG9MaRpA17oeq6LuI3M3QyrTjX3jhhbJuXd12PxV9F2+gFqUEoiQwtdAMmsZOW78nFX0X75CboZXvvPNO+elPf2oEZuP0ig888EDQmqroB8WiG5VA3AhwwvIHe8wz/O7jFTQtlotT0Y+FXpR5NbRylOA0mxLwIQH65dMbZ0he8LE0fquyin4C7oiGVk4AdD2lEvCIwFMDFklGmxw5duKUR2dwt1gVfXd5xr00Ne/EHbmeUAlUE1i17YDRyu85c331Nr+vqOj7/Q7VUz8V/XoA6W4l4CGBl4cvkYbNp8jBYyc8PIu7Rccq+gMB7AZQiNPpTAA5ANZbyx9Zu74B4BMAJQBWAmh0OguesY5nHq7XmzjNYGBKRwFMx2sOvO/6XQkkgsCG8grhQKuO2WsScfqozxmr6N9qibdT9DsDaGqpNpedrPV7AWQDoPjfCGCRtZ0viQ0AuOQLguv2iyKk+Kvom/dcRT/qZ18zKoGYCHACFI6s3XXoWEzlxDtzrKJPUT4/oKVfDOBsS6255HemvgAet9a5sI/jNu6zU+Bx9vYaSxV981FR0Y/3T0bPpwREdh48Jhc3yzLCKyQbDy9E/4BDndmqt79nArjFsS8XwPUA/g3gfcf2D6xtjk3Vqy9YFS5o0KBBLdZ+FsBIo2z27t1bGjZsaPjp33zzzVJUVFTrernBz9cctMK6UQmkAAEGU6NpZ/OeI0l3NV6LPtV6vyXZboh+tfonW0s/UtE/ePD0bDoTJkyQu+++O+jDpaIfFItuVAKeEeA0h1d8kC2vjVjq2Tm8LNgL0bfNNhTotDPveBFaecSIEXLPPfcEfQ5U9INi0Y1KwBMCHHHbNrPIcNNcveN0w8yTk3lUqBei3yWgI5cdu0z3BXTk5lvb2YG70eq8ZQcu17mtzlRfS7/joo7ybPazrn5YZn3JzdDKPXr0MOLvnHvuuSFj8Kjo13dHdL8SiJ3A4eMn5bO5G+SmDrmG4NNVM1lTrKI/EkAZgJMAtgF4HsBZAGivp/vldIeA077fE0ApgFWWPd8W9ucsV066c/7V3ljX0q+i73ZoZT5Yw4cPl6effjroM6aiHxSLblQCrhAoO3BM2metloYtphhizzltOdUho2oma4pV9OvSZU/31Sf6ibghbodWtq+hqqpKzjjjDPtrjaWKfg0c+kUJuEKAppsmo5cJpzxkhy1b9su27Hel7EQXoqLv4h1wM7SyM6TyxIkTJdhLjlVX0XfxBmpRSkDEcMNkALXLP8iWFhMKZcve5PPQqetGqujXRSfCfW6GVn799dfliiuuMFw2b7/9diksLAxaGxX9oFh0oxKIikDmih2GGef9r1YJvXRSManoJ+CuamjlBEDXUyqBeghwztrrWk+TBz6dK8kQF7+eywm5W0U/JBrvdmhoZe/YaslKIFoCLw9bYoyyLd55KNoikiKfin5S3KbQlVTzTmg2ukcJhEvANuv0mJE8IZLDvbbA41JO9Dl1WbokXquKfrrcbb1Orwiki1nH5pdSor9hwwYpLy/3/Wz0NvxYlhR8XiuvWZMSUALRE0gXs45NKKVE/8SJE4YIsvWbDh8KPq9ZkxJQAtERSCezjk0opUTfvihdKgEloATqI5BuZh2bh4q+TUKXSkAJpBWBdDPr2DdXRd8moUsloATShkA6mnXsm6uib5PQpRJQAmlBIF3NOvbNVdG3SehSCSiBlCCwt6JSsleVyaj8zdJ7Vol0yFoj73yxQl4Yslge7bNAGrefnhaDsELdTBX9UGR0uxJQAklH4FTV1/LrLjON+DkMmsYP57L9RdscuavbLHmkzwL5++DFkrVyR9Jdm1sVVtF3i6SWowSUQMIJ2Lb6oXmbZNv+o1Jx/GRajNuJBLyKfiS09FgloAR8S4ADFu//ZK7c3mWmsMWvKTgBFf3gXHSrElACSUZgfkm5Yc4ZvnBzktU8vtVV0Y8vbz2bElACHhF4ZuAiyWgzTY6dOOXRGVKjWBX91LiPehVKIK0JcHpDdtp+mrsurTmEc/Eq+uFQ0mOUgBLwNYEmo5YZ0xvuP1Lp63r6oXIq+n64C1oHJaAEoiawff9RYwLzVhOLoi4jnTKq6KfT3dZrVQIpSKDNpCK58N3JsnVfak1g7tWtUtH3iqyWqwSUgOcEOHn5FR9kyxsjl3p+rlQ5gYp+qtxJvQ4lkIYEOL0hO3CLth9Mw6uP7pJV9KPjprmUgBJIMAG6Zma0yZGnBixKcE2S6/Rein4TAEUACgGMBPA9ABcAWASgBMBoAN+Bmb5rfed27j/f2h5ykZGRkVyktbZKQAm4SmDEos1GK3/e+nJXy031wrwS/XMAbATwH5ZqjwHwLAAuH7O29QHwkrX+MgB+Z+J+vhDqTCr6qf5o6vUpgdAEqqzAavd9Mkdj64TGFHSPl6K/FcCZAL4FIBPA3QD2WN8p6I0BTLWUnUt+Z+LxPO4b1vegCxX9oPdTNyqBtCAwpbDMaOVPXL49La7XzYv0SvQp1G8AqABQDmA4gB9bZh1bxM+zTD/8ThPQufYOAKXW8Y5NNVdV9N18DLQsJZA8BBhY7Q8958ktnXLl5Kmq5Km4T2rqlej/CMAMAD8B8G0A4wE86YLov2BVuKBBgwY+QajVUAJKIJ4E8jfuNVr5g+ZvjOdpU+ZcXon+IwAGONrmTwPoreadlHlu9EKUgOcEGB55y94jwo5aRs5sn7Va/jG0QG5oN12ubTVVjlSe9LwOqXgCr0T/Bstz5/uWbX4wgNcAjA3oyGUHLtMrAR257PCtM6l5JxUfR70mJSDSdVqxERP/omaTjRa9PQMWv3NWLEbTzF2zU1FFScAr0adgtwKw1rLXDwVAt8wLAeRbZh6+ALiNie6c/E6XTe7ncXUmFf0o77hmUwI+JvDV0m2G0D/eL086Zq8RumXOX19uhFjQiVHcuXFein6doh3rThV9dx4ALUUJ+IXA5j1H5MrmU+RPveZrB62HN0VF30O4WrQSUALhEaAXDj1yGraYooHTwkMW9VEq+lGj04xKQAm4RaDr1LWGWWeC+t27hTRkOSr6IdHoDiWgBOJBYGHpHrmgaab8a8zyeJwu7c+hop/2j4ACUAKJI8DQyI3bT5fbOs+Qw8fVBTMed0JFPx6U9RxKQAnUIsCRtS8NKzBmvVq+ZX+t/brBGwIq+t5w1VKVgBKoh8Do/C2GHb/nzPX1HKm73SSgou8mTS1LCSiBsAiU7D4sl72fLY/1zRP1vw8LmWsHqei7hlILUgJKIBwClSerhCGRr2k1VXYcOBpOFj3GRQIq+i7C1KKUQLoTYKv9uc/z5dL3s6RR62lyc8dc+W232fJgj3nyRP88eX7QYnm493zDrJO9qizdcSXk+lX0E4JdT6oEUpPAgLkbDEFvMmqZNBu3Uv45apm8MGSxPPnZQnmo13y5u/tsubXzDOk2rTg1ASTBVanoJ8FN0ioqgWQgsHXfEbn8g2x5esAinc3KxzdMRd/HN0erpgSShQDdL58duMjonGU4ZE3+JaCi7997ozVTAklDgOETGAK5/5zSpKlzulZURT9d77xetxJwicD+I5WS0WaaPPDpXHW/dImpl8Wo6HtJV8tWAmlA4N9jlsuF706Wou0H0+Bqk/8SVfST/x7qFSiBhBHgBCc063TIWpOwOuiJIyOgoh8ZLz1aCSgBi8CxE6cM90u6YHJdU3IQUNFPjvuktVQCviPA6QzZyufE5ZqSh4CKfvLcK62pEvANAdrvacfXGPi+uSVhV0RFP2xUeqASUAIkwFALv/90rhFmYV9FpUJJMgIq+kl2w7S6SiBRBOiauWzLfmmbWWSYdcYv25aoquh5YyCgoh8DPM2qBFKRQNmBY0JB755TLG+MXGoES2NETNrv7c/fBy/WUAtJevNV9JP0xmm1lYAXBHYdPCbXtZ5miPv5TTPlpg65RnRMBk/rN7tUphXtlHU7D+kgLC/gx6lMFf04gdbTKAG/E6iq+tqIhsmwyPkb96obpt9vWJT1U9GPEpxmUwKpRuAzKyzysIWbUu3S9HocBFT0HTB0VQmkK4HVOw7Kxc2yjElOGDFTU+oS8FL0fwjgCwBrAawB0BjAmQByAKy3lj+Cmb4B4BMAJQBWAmhkbQ+5yMjISN27olemBOJIgKNpObvV9W1zZM/h43E8s56qFgG+cL98QWTiG7V2ubXBS9EfDOBvlmp/BwBfAp0BNLW2cdnJWr8XQDYAiv+NABaFVHtrh4q+W4+AlpPuBFpMKDQ6bmcV7053FIm//rxeIi3OEGnzU5ET3swf7JXo/wDARkvEnfpdDOBsawOX/M7UF8Dj1joXzuMcm0+vqugn/vnUGiQ/gZlrdxmC33JiYfJfTLJfwfalIq3OEvnoGlP41+V4ckVeif61APIBDAKwDMBnAP4TwIHTsm206u3vmQBucezLBXC947u9+oJV4YIGDRp4AkQLVQLpQoCmnIw2OYZpRwOmJfiuHztoin3Xy0UObhdp8z8iWW97UimvRJ+CfQrADZZafwygTYDoc9d+a3+4om+LP7Sl78nzoIWmCQF21j4/aLFc/F6WrCnTOPgJve204499TqTlD0U2zTerMvRPIp808qRaXon+/wLYVK3QwK8ATA4w26h5x5NbqoUqgfoJ0C2To2vppqkpwQSWDDbNObM6n67Iwj7mtr3u3x+vRJ96PxfApZbwtwTQxfo4O3LZsct0X0BHLk1DdSZt6Z9+PnRNCURCYP2uw8IBWE9+tlA4IEtTAgnsWm2acgbdL1LlmJNgT4kp+ov6uV45L0Wfdv0CywVzPAC6Z54FgPZ6umxOt1w4Ke702ukJoBTAqhD2/BovARV9158FLTCFCdCcw3DIjIH/y3Y5cm2rqcKQC5oSSIDeOT1uEOl0ocihstoVYYfu8Edrb49xi5eiX0Ok3f6ioh/jndfsaUGgZPdhI3DaHR/ONMw5jIH/9IBFUrBpX1pcv68vcuLrZmt+fQgvncx/ibT9X5GT7o6dUNH39VOhlVMCkRNglMxeM0vkdx/NMYSegdP+3HeB0I6/Nx3i35fOFFk+0jM/98jvSJAcq740BX/aB0F2WpuKp5jHlMwIfUwUe1T0o4CmWZSAXwkwnMLVLc0wyH/oOU8GzN0gO9PJjFNVJdLlYlMsO/5MZOr7Ivs2xv92sR6nToicOCZSWSFy7IDIkb0iFeUiO1aItD9XpP+d5jGhasd8rX8sMqVZqCOi2q6iHxU2zaQE/EeAHbSNWk+TG9tPl/W7DvmvgvGo0bYlpuBTKEc9KdLyRyItfiAy7GGR4qkiFGMvk+F++VezDhxZG+rT4TyRfWEEthv8oEiPX7paYxV9V3FqYUogMQQ27zlidNBysFXp7sOJqYQfzjqjvSnyFXvM2hzYJpLbVqTzRaYAf3S1yLyPzZa3F/VdOdY8z7gXRWZ3FpnTVWTeRyILeojk9RahN07+ZyK714Z3dubji2P/lvCOD+MoFf0wIOkhSsDPBHYcOCo3d8wVzm6V9gOt+vxK5LO7at+uk5UiFOQBd5siOuiB2sfEuuXofvPl0vf2mu6XsZTLlwNFf/HAWEqpkVdFvwYO/aIEkovA7kPH5dddZsqVzafIiq37k6vybteW4QsokGxd15XmfGget7OorqMi3zfpn+ao2h3LI88bKgfNRd0aiox8ItQREW9X0Y8YmWZQAv4gwInK7+4+Wy57P9uY6coftUpgLQo+D0/Mafpp/RMRukS6lbYsMs1K2e+6VeLpchhmud05Ivy34kJS0XcBohahBOJN4NCxE/L7T+caE5/MXVce79P783wjHjNbxWwd15cYs55CetyF/g966fRsLMJgaW6UF1j3NZnmy2zDnMA9UX1X0Y8Km2ZSAokjcKTypDzSe4H8/N3JklO0M3EV8dOZObqVkSnDbb0bLXPaygfEfhXsqKVZafWk2MsKVsLxQ2bI5WnNg+2NeJuKfsTINIMSSAyBypNVkrlih9HCv6Bppkxcvj0xFfHjWemOSeENNbo1sM78N9DrZvMTzj+DwPz29/2bzVGz/JfhZfr8PpFeN7lyBhV9VzBqIUZgX4kAACAASURBVErAOwIbyyukQ9YayWgzzRhhe1OHXJmggl8T+KQmIm3PNgdD1dwT+htb+XxRsNUfTeLLgrFxeF4XXSqDVmVud7OuB3cE3R3JRhX9SGjpsUogTgTYqp+0Yrs80T+vOmbO3wYvlhlrdskpjYxZ8y5QfLteEbmHC+3vtOvTvh9NKppgCvH8T6LJHVmenYXmuZYMiSxfkKNV9INA0U1KIFEEGA2z96wSY2Qt492zVf/J9HXCeDqaQhAoWxm9IGa+aXry2IO5Qpyi1mba2T+8zDQPnTpZa7frG/hi4/lGPx1z0Sr6MSPUApSAewQo+BR7RsLk/LXaqg+DLUe+0kxzKIpObfrqMy87YyNJWe+YLppbCyLJFdux418RYfiGGF8yKvqx3QbNrQRcIzB+2TZD8F8dsVQnN4mEKgOXcRRstGnAPeb8tOHG5eEE5pzakP8S4pkKvzJfUJsWxHRWFf2Y8GlmJeAOgfkl5XJRs8nyaJ8FcvykYwYld4pP3VIO7zZb3DM7Rn+NdryccDx/GCXz0+vNSJ6MnBnPxDAPDCA3vXVMZ1XRjwmfZlYCsRNgvJyGzafIXd1myYGjJ2IvMJ1KWDrMbP3GEvqAk5Rw9qoRj9dNjqLb+xaRNj8V2Ti37mO92svYQYwvFENS0Y8BnmZVArESYLA0hkLmFIbb9h+Ntbj0y8/wyR9eKhKLrz2p5bQwTTYHtgZnSE8fBnJrdZbIuhAzXQXP6e7W2V3Ml9zhXVGXq6IfNTrNqARiI3Dw2Akjdg6DpXH+Wk0REmAsmnb/J8JpB2NNjG3PuPsMwxyYOBEKJy6naYVumolM25eZor9sRNS1UNGPGp1mVALRE6Af/uP98oxQCho7J0qOJbmmAK7NirKAgGycaIWzbjGWjp24zgFY9PDhFIyJTuxs5twAY5+LuiYq+lGj04xKIDoC9MV/Y+RSw1PnyyUhzAnRFZ1eubLeNu3rlUfcue612aa4F44zy6s6JTLmWXMbJz7xS2II5y/+FnVtVPSjRqcZlUBkBCj2nMP2nS9WGILfY8b6yArQo08ToA2/+1Uiwx45vS3WNYo8Y9czzg1b1ONfNgWfM22lUFLRT6GbqZfiPwLHTpyS3DU75b2vVkrj9tMNsefgq5YTC4UvAU1RErBnlHK7BW5PsMKRrzTpzGgXZQX9m01F37/3RmuWpAR2HTomwxZukuc+z5dL388yhP7yD7LlhSGLZXT+FuF+TXUQOLqv/jls7QBkobxt6ii+zl30+6eHDgWfk6un4ItZRb/OJ0B3KoHICEwtLJMrPsg2hJ7z1raYUCizi3frgKtwMZbOEul4vhmumLHx95QEz8lRtL1vDr4v1q1zu5lePCko+ETjteh/E8AyAJkw0wUAFgEoATAawHes7d+1vnM7959vbQ+5yMjIiPXWan4l4BqBqqqv5aOcdYbYP/DpXMN2r+abCPBSYPN6mW6RPX4pMu5FkdY/Nt0oh/9ZZMPs063uI3tNn/rcNhGcQA+1CXgt+m8CGOEQ/TEAHrOUvA+Al6z1lwHwOxP384VQZ1LRt2+hLhNN4PDxk4bphrb6JqOWCe34miIgQD/4cf8wTSocFcsIlkwMoEa/+U4XmPvYsl82XGTpUPP71sURnEQPtQl4KfrnAsgFcIcl+t8AsAfAtyw1bwxgqrXOJb8zcT+P4/Ehk4q+fQt1mUgCm/ZUGOETOJNV/zml2jkb6c04uF2k369NEZ/ZwfSaCSyDUyEWDBLpcYN5HO3tnX8e/NjAvPq9FgEvRf8LABkAbrdE/8eWWccW8vMAFFpfuORLwk6lAHh8YHrBqnBBgwYNal2MblAC8SQwZ91uubrlVLmm1VTRAVZRkOeMVRwMxVG14cwvSxPQ+ulmjJz5n0ZxQs1CAl6J/v0AelmK7aboV78EtKWvD3CiCNBW3292qbB1/9tus2XzHpcGByXqghJx3iWDTZv9R9eI7FqdiBqk7Tm9Ev0OALYB2ARgJ4CjAIareSdtn7OUuHDa6qcV7ZTnBy02Omz/MbRAKo7HYdakZKfH6JScbGT5KBF2vjLcAU00Q/4gQvdMTXEl4JXoV7fIHeYdbhsb0JHLDlymVwI6ctnhW2fSln5cn5O0PRk7aScu3y4vD1si9LVnZy1NOhxNq945QR4LmmAYn56jWRkGmLZ3Crz9YdCyj681xZ8jYDXFnUC8Rf9CAPmWbZ8vALpqMn3PeiHQZZP7eVydSUU/7s9K2pzwwJETMmbxFnl+UL5c/J45uCqjTY40G7dSaMc/caoqbVhEdKGHysywCHZH68DfiUx41ZyKcM1kkd3FIoyMqSmhBOIh+nWKd7Q7VfQT+tyk7MkZG+e61tOMFj0nJW81sUjyN+7VuWrru+Ns3XdoYAZAy+utnjX18UrgfhX9BMLXU/uLwNqyQ4bg39BuuhRs2qfmm3BuDwdKjXnGNN/Q9bJ8XTi59JgEElDRTyB8PbV/CKzbeUgatZ5mzGC1obzCPxXzc02Kp5gul4xVM7uzyCnt1Pbz7bLrpqJvk9Bl2hJYv+uw0GZ/fdscKdl9OPU5cEJvTrcXbWyZYwdFxr9itu57NhbZsSL1maXQFarop9DN1EuJnABFnmJP0af4p2yiwG9eaE6+YcS0OUOk9U9MTxpOBfjVyyIz2ossGSJSMsOcB5a+9LM6iUx8w5w9ipOC2944LX9ozivLScU1JRUBFf2kul1aWTcJ0IzzC0PwpwnNOymZGMeGMed73WS2zNufKzL53yIL+4hMfd+cGar/b0Q+vMwMbma7VjqXjH3T62bTv37CayIMl7CtICVxpcNFqeinw13Wa6xFYGN5hbDDlp467MBNubSzSCTzTZF255hiz2BlBZ+LHK/j3wzng+UE4RvniWzOM9e1JZ9yj4aKfsrdUr2g+ggwSNqN7afLta2mypqyg/Ud7v/99KBh6OEFPU0zDVvlbKnTfPPlCyJb8qO33/v/6rWGERJQ0Y8QmB6eHAROVX0tW/YeMQKhDcnbJG0mFRmDre7sOksubpZlBEkr2p6kgr9pgci05iJD/yTy4aWmwNvmGNrcBz8ownldK/Ykx83SWsaVgIp+XHHrybwmUHbgmDzeL88QdoZMsD+XvJdlBEfjlIXts1bL+l1JatJhNEqGMqCbJO30bMlT4EtyTY8crwFr+UlPQEU/6W+hXoBNYOXWA4afPacrbDd5tYxYtFkWlOyRHQeOCme2SvpErxp63vS7Q4Ruk5qUQBQEVPSjgKZZ/Ecge1WZXPZ+tjB0QkrY6QMRM/Z827NF6BdPG74mJRAlARX9KMFpNn8QYKTLXjNLDDPOgz3mye5DKeg3XrZSpMN5pk89pxDUpARiIKCiHwM8zZpYApUnq+TfY5Ybgv/qiKX+mZuW8ePdCkmwp8QcENX1cpH9mxMLXM+eEgRU9FPiNqbfReyrqJRH+iwwBL/btGL/BEdjiANOAcgJvqMNc2Dfzv1bRLpdKdLpQjMssb1dl0ogBgIq+jHA06zxJ0BzTvHOQ3Jb5xlGrPvxy7bFvxJ1nXF6q9MulGsy6zqy7n2Hd4t80kiEI2h3LK/7WN2rBCIgoKIfASw9ND4EOC0h49pPLSyTz+ZukJYTC40pCu/uPluubD7FaN0zImbBJp91aB7cLtLmf8xQwz1vFOnWUKQyioidNA9xBC3Lok++JiXgIgEVfRdhalGxE1i17YAR4tj2r+eS0xRyAnLOZNViQqH0n1MqdMP0XWJcGvrP79sosmm+2eLPaRlZNRn2gNMMspz1OZHl1aOVQBgEVPTDgKSHxIcAJy5p2GKK4XY5Yfl2Wb5lv+ytqPSPvb4uDLvXijDyZNY7p48a9w9TvDlNYDiJfQB2yOJVX4STQ49RAhETUNGPGJlm8IIAB1GxRU9b/bb9PmzF13fRI58wg5s5Qx/QLk9XS4YuDqdTd2Ff899Bbpv6zqb7lUDUBFT0o0anGd0iMHPtLmGYhN90nSW7Dh5zq9j4lcM49Yx9w9mjAlN+f3Mf55CtKzFgGsMrDP+zzi9bFyfdFzMBFf2YEWoBsRCYUlgmFzWbLL/7aI7sOZyEA6vYgv/styJdLgneaVt1SqTvbaYbJ905gyX2AXQ8X6THLzW8QjA+us1VAir6ruLUwiIhQLv9he9OFo6kPXDkRCRZ/XPsmslmS37xwNB12rbEnKDEae+3j2Z8e4ZWoBmIA7E0KQGPCajoewxYiw9OYPTiLXJ+00xjgNXh40k6oTZH3X76C9Ofvr4RuJOamB29zvlkq6pERj1pbl8/PTgo3aoEXCagou8yUC0uNAEOrOIEJj1mrDd87Z/8bKEcrTwVOoPf93AOWdryiybUX9Oj+8yRtf3vPG2z5/yzzD//0/rz6xFKwCUCKvougdRiahOgjT53zU7pOq1Ynh6wyJi4xPa//9vgxXL8ZBILfuURc15Zing4njnEs2y4KfJ8WTAuPgV/3Ivh56+NWLcogYgJeCX65wGYCWA1gCIAb8BMZwLIAbDeWv7I2v4NAJ8AKAGwEkAja3vIRUZGRsQXqxm8J8DZqt4eu0Ju6ZRrtOYp8hc0zRSOpuV2xrgv3H4gOXzv68I1p6sp2pxPNtzEl8OAe0Q6NBBp938ifW8XOZGE3krhXq8e50sCXon+2Q7h/m8A6wBcAaAzgKaWknPZyVq/F0A2AIr/jQAWhVR7a4eKvr+eJ3bEts0sMmasuvT9LHlpWIH0nV0iC0v3SEWy2uxDIWY8+/bniQx/NNQRobfvLDRdM+ntw7ANmpRAnAl4JfqBmj0BwF0AigHwhcDEJb8z9QXwuLXOhfM4x+bTqyr6cX5SQpyO4Y0ZH+fqllONjlmGOuaUhSmT2Dqnq+XeUpGti0WKp4p88bzZ+bqzKLrLLJ2lnjrRkdNcLhCIh+ifD2ALgDMAHDgt20ar3v6eCeAWx75cANc7vturL1gVLmjQoIELl69FREuAnbKTV+6QWzvPMMw4f+m/UJJyovFTJ0TK14sUTxFZ0ENk0j9FBj0g0uMGkc4XibQ60zTj0P7u/GT+K1p0mk8JJJSA16L/XwCWAHjIUm1b5G0R32+thCv6dj5oSz8xz82pqq+NeWf/2HOeIfYMhMYRtXwJ+D7RrZI2+JwWIsMeEfn4OtPU4hRz+sv3+7XIqL+ITHxdhAHT6F2zbIT5YmBrn63+ZLhe398QrWAiCHgp+t8GMBXAm9VKXdNso+adRNzxKM5Jc83o/C3y8vAl1R4417fNkZGLNgtfAr5OjIWzfJTImGfNAVAUeLbee90sMvppEca/p1cN56DlsSrmvr6dWrnYCXgl+uyQHQLgI4fgc7VLQEcuO3aZ7gvoyM23todcaEs/9psfqgTGs5+zbrfRMcuWvO1m+Yu2OfLm6OXCiUt83TnLka2zu4h8dpdpe6fQd/65yFcviRSN11AHoW68bk8LAl6JPu3zYrlfLgfADz10zgJAez1dNqcDoAsnE18SPQGUAlgVwp5vHWouVPTdfz5pouFI2WtbTTWE/uJmWfJE/zzpM6vEmNQkKUw4nK2q9U9M+3ufW0VmtBPZVnB6QJT72LREJZBUBLwS/RoC7cUXFX13n7PS3Yflsb55htg/3Hu+zFizS45UJiA8wqGdIsMeFpnZQYTByiJJNNMwUmW/O0QO+GwaxUiuQ49VAh4SUNH3EG4yFE2Xy0+mrzPmm+UEJhw8VZUoO335OpHuDU97zHx+nwhfAuGkvF5m637w70UYxEyTElACQQmo6AfFkh4bF2/ca8Swp83+leFLZNehBPrXMyZ9x5+Z8Wlojlk61JwjtsvFIhvmhL4h7HilCYd2e3rccLpBTUogBgKr96yW7I3Zsqp8lew7ti85PNMiuF4V/QhgpcqhB46ekGbjVhqmnJs65BrxcRJ6bYxD0+anIh9fa7pD2pXh6NVPMszOWHbMMiqlM/H75LdMwR//skh9kS6deXVdCQQQOHHqhHQv6C5XDbpKGg5qWP355bBfyh/G/0Fenf6qdFjUQYYUDZFlu5Yl7GVQeapS9hzdE1D78L+q6IfPKmmPZAdsye7DMmTBRnlxSIFc1WKKEQ+nzaSixHvhLOpnijp94yvKazM+fkhk7HOmsA99yHSr5FEcVPXl383tU5qpq2Vtcmm5hc96YXmhlOyPbG6C9fvWy8MTHzaEvvn85lK0p0hyN+caAk+hp+D/ccIfhS8A+4Vw/7j7ZcCqAVJ+NMhzGwZ91vVU1Snhy+b4qeNy5MQROVx5WA4cPyBbDm6RvB158uW6L+WTpZ/IO3PekaeynpI7xtxhvJS4Hm1S0Y+WnM/z7Tx4TL5cslWajF4mN7afXu12yZY9QyWs3BpiFqd4XRfNMhwkRbMMY9hUVoQ+M49dPECk9Y/NyJalM81pBZmX/wDUtz40uzTZs7Nip/Rf2V8oxLYoPz/leZm1ZZZUfR3wD9HBhPsGFw6WRkMaya2jbpUZm2c49tZepVDvPbZXxq0bZ4gwz3XN4Gvk1dxXjZfEiarakwFRyBfuWGjU740ZbxjCffXgq6vradc31JLl3/3F3fLXKX+V9+a+J72W9ZJpm6bVrlyYW1T0wwSVDIdxMpLBCzYaES1t33q6X748bIkMW7hJNpZXJOwvaQ1+JytFvnzBFPyJb4Rvltm+TOSjq818LX4gwvlnNaUtgWMnj0nWhix5cdqLYovo01lPG63jz1Z+ZogrhfS+cffJiDUjjJa0E1ZZRZnwxcBj2JKPpsW+4cAG6VrQVW4bdZtRDpddF3c1ztdsbjP5/Ve/r2EuYl3YamfrveeyntJ7eW/pu6Kv8ULgv4ZBhYOMfxd8qeSX5cu2w9vkZJW7XnQq+s6nIEnX1+86JB+MXyVXNp9itOgf+HSuEeFy1bYD7nni0H5etkqE5pgv/iYy4nGz45SjWjnalUHIKOQcAEX7Opc0v3AfZ4ca8ZjpijnkD+ZcsEYrvXPkrfSj+0Um/9scZJWk9ytdq01RnVQ6ST6Y94G0zWsrs7fOFgp3JIlmEIph6wWtpfHwxobQ3jX2Lvl06aey+eDmGkWx1c2XwuOZjxvHNR7R2BDkHYd3SGZpppH/F8N+IV8UfxFzY4jnmrllprye+7pcO/ha43z85/DK9Fekz/I+Mn/bfMNsU6OCCfqiop8g8LGe9uSpKsleVSaP9zN96zmQiqacZVv2x1q0mZ9eMJsWiDBuPP3mGUqYQs3Ph5eK9LpJpOeNp6cL/Oga092y25WmCabrFWar/JNGZvAyhj3gYClOOsKY8itGu1NPLcUVAocqDxmi1XFRR3lk4iOGeLGzMpZEswaFkGWyI9Q2X9w04iah2PL79UOvl5envyyj1owSinFgop17wfYFRsuYrfjrhlxXne/dOe8aZpO6zDd2ebyWN2e+afwjsDtq/zL5L4bt3D7GrSXNP9sPb4/5ReJWfQLLUdEPJOLz7xxERb/6xpadnjb6njPXC2epiimxY3RznsjMjiIDf3d6VCtF/tPrRSa8JrJ8pMi+jZG3zmOqmGb2ggDFdN62eYZp4rFJj1WbR2jbfib7Gbl55M2GuFJo2SKnLbu+xGPo7kib85OTnzRs3RT2jKEZ8vepfzc6PdlBSpFmi33utrnSbmE7w15tvxD4cuhW0M34PDH5iepWM+3arOeHiz80XiQVJ+roA6qjohRjmlaGrR7mutmkjtP6apeKvq9uR+3K8IdUvPOQfJSzroatnqGMpxSWCVv8USX+iBkPnoOa2JHKmZyMlvwPRPr8SoQeMXSlDOZRE9UJNVMiCVBkF+1YZJhB6PlhmyCuHXKtUNhpHqHZhMcx8aUwtGio/Gbsbwzxp+cKTTOB9mW6D/Ll0Savjdw55k7jWLakKdAfL/nYOKddZqjr5zNeeqDUsGc/N+U5o26sH1vidKHkyyFakQ91znTerqLvw7vPHwGnFOwyZa3c8eFMw05/ftNMeaT3Ahkwd4Ns3380ulrTLk/Pl3H/EOGgJ9tcQ/94xpFnMDLOCqUpYQTownf05FGjU5Fuh0t2LjE8Sr5a/5UhihRSCmzn/M7G98mlk2Vx2WLDns18dqKNmSYN2pMppGzBszXNDk/auNmapp2Z4l5Xojvh+PXj5cGvHjTy/3bsb2X46uEysWSiNJnZpNqFkeYa2rPZARmLDznrwjo5r6Wu+um+yAmo6EfOzJMceysqJXPFDmn65crq+WU5tyxt9kPyNsmug5F1eNWoJKNO5rYRoZ2dQk/7PH3flwwR2V+z86tGPv3iKgG+zOl7/VLOS4ZrId3wfj3614YphaJpt75tU0ewJUX7lpG3GLbwYPvZufnAVw9U28x5DP3P+ZKg+yJt99EkmmTozsjWt31e1r3lgpZRdchGUwfN4w4BFX13OEZcytHKUzK7eLe0n7xa7v14jjHVIN0sGzafIs8PWmzEqo/JTs9BTUsGiwy42xT6lj8U4eCmVV/oZNwR363YMlAwp2+ebpg8KJgUy3/N+pewI7LF/BaGJwtF+aMlHxn2cPqbj1wz0vA8YWucg422HtpqCLbdackXCAWc/wbY0TmhZILh9td+YXujBU7vmJxNObL/mEsd+xYCnpfhCfix6xIbHc0dbwIq+i4TZ7CyvNI9Mm7pVsNnvseM9dI+a7UR9uC1EUvl2YGL5MEe84wJxCnyFzWbLI/2WWB0zi7ZvC98Gz0jUB7eJVK2UmR9jjkRyNxuItlNRUY+IdL2f02xZxgDeuDoJNxh3WmaVwr3FMravWvrNX3UVyBNLBRj2zRyzxf3yJjiMdV28/ry634l4AUBFX2XqLJDlZOLOCcdsQdI0Z2yUetpclvnGXL/J3MNk027yatlVvHu8MMXM64MA49lvW26QrLlbtvknUt2yNJGz6n+tuSrp00Y95fD3unPzZb3r0b+qtp8wVY5Oyc5gId2dMZcoScL/cEZiIv5DlYeNFrc7Gi0bdF0VeRgINq/WcZDEx4S2t4DO0HDqJoeogRcJ6CiHyNSzjI1NG+T/KqTOUH4b7rOki8KtsqG8gopP3xcjp+MMCa8sz4njomszTYHO3U83xR5BiYb/mfTRs+BUux8pasl523VkMIGPQrw7iO7DWGmCYSdgmx10zTBxCVb8jSj0HPFHs1JWzlHS9JLZcrGKcZISb4Insh8Qjiwx7Zlh7uk22K47o7O267rSsBLAir6UdJlyAPOKMW5Ytmi/32PeTK1sEyq6EJJV8hdq013x8DIkKHOx9gz5evN1vzSYSJjnjntRtn+XHPEa+FXKSfsbP2y5UxxZEuaLWoOq39/3vuGJwj32WIdCh1ty7Qxc0g7hdYW8WDizM5S25OF+zkQiX7b9HShaSdUYh3Yul+6a6lRL/p588M6c+g8PwNXDRQO/+fLpGBnQb31DnUu3a4EvCSgoh+ELk01+yoqZdOeCiMw2bz15ZK9aocxOXj/OaXSamKREamSYk9/+fnrdsvXNKXQt71bw5pmF5phOl9kjmDlBB8MV5D1jhmmYPCDZkgC52hX21TDPDTRrMsRYawanyVbBDnYhp2UFMAu+V2MUY8cVEM/bbain5/6vOGtwkBTb816SxiPhJ2XHJ7O4FiBHitsUVOI2eq2Rfv20bcb5fIcbKFTnOkWSLdBtsydJpk/T/qz4R/OEZ48nmJMIabrYo9lPYzOUsZGoWsh/w1oUgLpRkBF37rjNMWMyt8szw/Kl0vey6qOSmnb5Z1LulK+MDhf1hXMsIT+SlPoW50lMuwR0xWSXjIL+4hMb22OZmWsGoYgYMCwdueYoQoYTpidrowlw85WjnilH/3u4sinCnThyWWLmdEK6fdN88botaMNE0en/E6GWHO4PAX93i/vDeoyyJGXFHIK/Ys5Lxr+4Wx5PzrpUWMYPoNNMU4Kg1LRzk0/b/qd0wedLW0OX7db9awLPVNYh7dnv109SIgvAmd4W8Y3aTqnqWGSidU/3AWEWoQS8D2BtBZ9hjSgieZPveZXu0wyrEHz8atk4LwNhm1+WtFOWVhSLmvXl8iulTlyNK+/fJ35LxHGmGGr3BZ6zs/KYGA+SRRNjpZk5yI7HBnsilEFtxzaIqX7S42BOWwN01XwtdzXDFFmHBS7de1c0oecYs0WOIfTs8XOfByxOX3TdMPbxSnYXiHgEHq27mkCYsudXja8Tk1KQAmETyDtRJ+DoDpmr5E7u86qbs3TT757TrEUbtsnX3MgU9EEM077uBdF2BoPNL+wM5Ut+jgJPUWbQ+RpruAED+xYZMhWtrgpxvT7pjnkxuE3GnFOGKfEKdp1rbN1zngnFH4KOV8E9A0v3lcsu47sMl4c4T9OeqQSUAJ+J5B2on/o2Am57P1seb7vdJmcOU72z+opwpjuNL20PbumPf7Dy0QG3S8yqYlIXm/TH37fptrT9rlwl9ki33RwkyHuDPtKswfNKXbsE1u4Ke4cVk/TCM0eto2crV9GM6S9mnkZ9Krfin7y+arPjRY5xZwhZDmk3h66T1OOtpRduHlahBJIIgJpJ/ocpFTV/aqa4t7hPJGB95rzrXIU69YCEY5oDSPRJ5udixyizpY47d8UZMYh4fKt2W8Z/t/0RuGQdYozR01SsDkTDm3gNwy/oVbLnB2cbIGzo5KTKzDoFDsebZt3GFXTQ5SAElACtQikn+hzkBPjznCaveIp8vX+LVJRedjowKSte8XuFYZ5g9ORsYORQs6ZbRigioJNv22aQmjftsPP2q1wLmn/ZuwTdlRyJCY7LxljhYN86IVCTxN6qHB0Jr1bGOObLXQKO+3VjM3CetAer0kJKAEl4DaBtBN9djiyBU2zCYNT2RMqOIU72DpD0FLkKeAMM0vvFL4EKNbZG7Nl5e6VhhuhtsTdfkS1PCWgBNwk4DfRvwdAMYASAE1RR8rIyIiKA23n/5zxT2OCYc5yzzjitHszJgqH4nOQEAfW0GTDIFcckKOt7qhQayYloAR8SMBPov9NAKUALgTwHQArAFwRSvejFX0f3gOtkhJQ9OIP2QAABUZJREFUAkogbgT8JPqNAUx1iPy7APgJmlT04/aM6ImUgBJIIQJ+Ev2HAXzmUPinAPRwfOfqC1aFCxo0aJBCt0EvRQkoASUQHwLJJvrV7wBt6cfnAdGzKAElkFoE/CT6at5JrWdLr0YJKAEfEvCT6H8LwAYAFzg6cq+sbtoHrGhL34dPk1ZJCSgB3xPwk+hT1u8FsM7y4nkvQOdrfFXR9/2zpRVUAkrAhwT8Jvo1hL2uLyr6PnyatEpKQAn4noCKvu9vkVZQCSgBJeAegaQVfQDlVuULQiw3hdge6vh4b9f6AbEwV37KL5bnJ9a8yfz8UTtTMvGm+jlp/WK7O8pP+cVGILbc+vzFxs+T3HpTYsOq/JRfbARiy63PX2rzi+3qQuTWhyYEmDA3K78wQYU4TPmFABPmZuUXJqgQh/mdX4hqx7aZIRv8nLR+sd0d5af8YiMQW259/mLjp7mVgBJQAkpACSgBJaAElIASUAJKQAkoASWgBNKXwEAAuwEUOhCcCSAHwHpr+SPHvnivBqtfSwDbASy3Pgw/kah0HoCZAFYDKALwhlURvzAMVT+/MPwegHxr0h/ya2XxYwypRdYscKOteFKJuMeh6jcIwEbHM3htIirnOCcnUVoGINNn/OwqBtbPb/w4bmCVdT/tTly//IZthq4tbwXQKED0OzumW+S0i51cO1vkBQWrHwXr35EX5UmOsy1+LPy/rdhHnLHMLwxD1c8vDL8B4L+sO/NtS+hvBDAGwGPW9j4AXvLk7tVfaKj6UbQ4h4Vf0psARjhE3y/8bD6B9fMbP4r+j+3KWku//IYDquXO1/MDRJ/z7FIsmLjk90SmwPr5RbCCMZkA4C6LmZ8Y2nW16+dHht8HsBTADQD2AGDkWKbAsOHW5rgvnPXzk2idCyAXwB2W6PNF5Sd+gfXjjfMTP9YnmOj7TQddfeADRfWAo3Q+QM7vjl1xWw2sHwWLN2klAJp/Eml+ckJgPbcAOCOAmR8Ysp7O+vmJIf/601RXYf2rZIurxAGWJiqn+dGxKy6rgfXjSSlaFAU+g90BfDcuNQl+ki8AZAC43RJ9v/ELrJ/f+LE+NNWxwbHEmmGQ25y655ffcPAnIIqtgaLqvFgWtz+KMt3MEli//wHAH+L/A9DOEn43zxdNWTRR8IF5yMrsN4aB9fMjwx9a/SO3+Ez07efBrl9D6x8whYBiPxhAc/ugOC/vB9DLOqcfRT9Y/Vhd/gv2Az/7dp1jrfzU6l+iWdlvv2G7rq4sA0XVb39rAuvnvOi69jmP83KdtmhOSk+7pZ38xDBY/ex6cukHhnZ9KJ5v+cw8YdeNS9YvsD/JFlvncfFa7wBgm/XPdyeAowCG+4hfsPoNC4CTSH4BVTG+2qZPP/2Gg9Uzpm2BP/ouAR257NBIZAqsn20rZ52aABiVwMqxtTIEwEcBdfALw1D18wvDnwBgC5rpPwDMBcDW4diAjtyXrWPivQhVP5sf+fLed4x3xYKczymefuHnrKazfn7i95+WEwbryvUFAO4B4JffsJOhK+sjAZQBOGm1GJ4HcJbVMUSXzekA6LqUqBSsfkMt9yraUyc6Op0TUUeaIsSy7TpdSP3CMFT9/MLwasvVkPeSdnvbTHKh5cpJ2z4FLFE281D1m2E9g6wzW662B1IinkH7nE5R9Qs/u25cOuvnJ35ktcLhNmzPOuiX37CToa4rASWgBJSAElACSkAJKAEloASUgBJQAkpACSgBJaAElIASUAJKQAkoASWgBJSAElACSkAJKAEloASUgBJQAkpACSgBJaAElIASSBsC/x+uSXtzYHj6yAAAAABJRU5ErkJggg==)\n",
        "\n",
        " Σας ζητείται σχολιάσετε τις γραφικές παραστάσεις που θα φτιάξετε, και συγκεκριμένα το πώς μεταβάλλεται η συμπεριφορά των αλγορίθμων συναρτήσει του $N$.\n",
        " \n",
        " Σημειώνουμε τα παρακάτω:\n",
        " \n",
        " * Σε όλα τα παραπάνω πειράματα μπορείτε να λάβετε σαν σημείο εκκίνησης το $(1,1)$ και σαν σημείο τερματισμού $(N-2,N-2)$. Εναλλακτικά, μπορείτε να πειραματιστείτε με τυχαία σημεία εκκινησης και τερματισμού.\n",
        " * Αν και οι χάρτες παράγονται τυχαία, η εκτέλεση αλγορίθμων σε διαφορετικούς χάρτες παράγει μη συγκρίσιμα αποτελέσματα, οπότε οι αλγόριθμοι πρέπει να τρέξουν στους ίδιους χάρτες.\n",
        " * Για λόγους ευκολίας σύγκρισης, προτείνεται να τοποθετήσετε πολλαπλές γραφικές παραστάσεις στο ίδιο σύστημα αξόνων, όπου αυτό είναι εφικτό.\n",
        "\n",
        "Για το πως κατασκευάζουμε γραφικές παραστάσεις μέσω python, μπορείτε να βρείτε παραδείγματα στον κώδικα που δίνεται, καθώς και (για το ζητούμενο της άσκησης) [εδώ](https://www.kite.com/python/answers/how-to-make-multiple-plots-on-the-same-figure-in-matplotlib-in-python) .\n",
        "\n",
        "## **Visualization**\n",
        "Παράλληλα με τα παραπάνω σας δίνεται έτοιμη και μια κλάση η όποια κατασκευάζει ένα animation της αναζήτησης το όποιο υλοποιεί κάθε αλγόριθμος. Για την χρήση της κλάσης αυτής πρέπει να κάνετε τα εξής 4 βήματα:\n",
        "\n",
        "1.\tΔημιουργία ενός instance της κλάσης εκτελώντας την παρακάτω εντολή: `visualization(Start, Goal)`. Η εντολή αυτή δημιουργεί ένα αντικείμενο τύπου visualization. \n",
        "2.\tΤο βίντεο που παράγεται κάθε φορά ουσιαστικά αποτελείται από stacked frames. Συνεπώς σε κάθε βήμα εκτέλεσης όπου δηλαδή θέλουμε να προσθέσουμε ένα frame στο βίντεο πρέπει να καλέσουμε την μέθοδο της κλάσης: `draw_step(grid, frontier, expanded_nodes)` όπου το πρώτο όρισμα είναι ένας χάρτης (τύπου Maze) το δεύτερο μια λίστα με το μέτωπο της αναζήτηση ενώ το τρίτο μια λίστα με τους κόμβους οι όποιοι έχουν ήδη επεκταθεί από τον αλγόριθμο. \n",
        "3.\t(Προαιρετικό) Αν θέλουμε να προσθέσουμε στο animation και το βέλτιστο μονοπάτι που βρήκε ο αλγόριθμός μας μπορούμε να καλέσουμε την μέθοδο add_path(path) η οποία δέχεται σαν όρισμα μια λίστα με όλους τους κόμβους που ανήκουν στο βέλτιστο μονοπάτι (συμπεριλαμβανομένων και των κόμβων αρχής και τέλους).\n",
        "4.\tΤέλος καλούμε την συνάρτηση `show_gif()` η όποια εμφανίζει το animation. Επίσης μπορούμε και να αποθηκεύσουμε το gif καλώντας την συνάρτηση `save_gif (filename)` (το αρχείο πρέπει να έχει κατάληξη .gif) καθώς επίσης μπορούμε να εμφανίσουμε μόνο το τελευταίο frame καλώντας την συνάρτηση `show_last_frame()` στο όποιο (αν έχουν γίνει όλα όπως παραπάνω) θα φαίνονται όλοι οι κόμβοι οι οποίοι έχουν επεκταθεί από τον αλγόριθμο, το τελευταίο μέτωπο και (προαιρετικά) και το βέλτιστο μονοπάτι.\n",
        "\n",
        "Μπορείτε να καταλήξετε στα ίδια συμπεράσματα όσον αφορά την πολυπλοκότητα των αλγορίθμων παρατηρώντας το visualization; \n"
      ]
    },
    {
      "cell_type": "markdown",
      "metadata": {
        "id": "nqTnPBPM_RrH"
      },
      "source": [
        "## Μέρος 4\n",
        "\n",
        "Στο τέταρτο και τελευταίο μέρος της εργασίας σας δίνεται η δυνατότητα να κατασκευάσετε λαβυρίνθους με το χέρι. \n",
        "\n",
        "Καλείστε λοιπόν να **κατασκευάσετε** και να **σχολιάσετε** τους παρακάτω 5 λαβυρίνθους:\n",
        "\n",
        "\n",
        "*   **Λαβύρινθος 1**: Ο Hill-climbing δεν βρίσκει μονοπάτι από την αφετηρία στο στόχο.\n",
        "*   **Λαβύρινθος 2**: Ο Α* αργεί όσο το δυνατόν περισσότερο να βρει το βέλτιστο μονοπάτι ανεξαρτήτως της μετρικής απόστασης που χρησιμοποιείται ως ευριστική. Σε τι είδους μονοπάτι η επιλογή διαφορετικής μετρικής απόστασης (Ευκλίδεια/Manhattan) ως ευριστικής οδηγεί τον Α* να βρίσκει το μονοπάτι πιο γρήγορα;\n",
        "*   **Λαβύρινθος 3**: Ο αλγόριθμος άπληστης αναζήτησης πρώτα στο καλύτερο (greedy best first) αργεί σημαντικά περισσότερο από τον Α* για να καταλήξει στο στόχο. Σε ποια περίπτωση οι δύο αλγόριθμοι θα συμπεριφέρονταν με τον ίδιο τρόπο;\n",
        "*   **Λαβύρινθος 4**: Ο Α* καταφέρνει να βρει το μονοπάτι προς το στόχο σημαντικά πιο γρήγορα από τον Dijkstra. Ο χώρος πρέπει αναγκαστικά να περιέχει εμπόδια. Πώς επηρεάζει το μέγεθος/είδος του εμποδίου τον αριθμό βημάτων που χρειάζεται ο Dijsktra και πώς τον αριθμό βημάτων του Α*;\n",
        "*   **Λαβύρινθος 5**: Ο Α* και ο Dijkstra φτάνουν στο στόχο πραγματοποιώντας τον ίδιο ακριβώς αριθμό βημάτων για την προσέγγιση της βέλτιστης διαδρομής. Σημείωση: **αγνοήστε** την τετριμμένη περίπτωση όπου ο Α* συμπεριφέρεται όπως ο Dijkstra (h(n)=0). \n",
        "\n",
        "\n",
        "Ο Α* σε όλες τις περιπτώσεις πραγματοποιεί τη βέλτιστη δυνατή αναζήτηση.   \n",
        "\n",
        "\n",
        "Για κάθε λαβύρινθο που σχηματίζετε, δώστε μια σύντομη εξήγηση για την επιλογή σας.  \n",
        "\n",
        "**ΠΡΟΣΟΧΗ:** το output των κελιών που σχηματίζετε διατηρείται για περιορισμένο χρονικό διάστημα στο notebook, γι αυτό καλείστε να αποθηκεύσετε τη φωτογραφία (το πραγματοποιεί η συνάρτηση draw()) και να τη μεταφέρετε στο ανάλογο markdown ώστε να μπορέσουμε να την αξιολογήσουμε.\n",
        "\n",
        "\n",
        "Στη συνέχεια, καλείστε να τρέξετε τους αλγορίθμους pathfinding πάνω στους χάρτες που σχηματίσατε. Για το σκοπό αυτό, μετά την εκτέλεση της draw() καλείτε τη συνάρτηση draw_grid() που μετατρέπει την εικόνα που σχηματίσατε σε χάρτη πάνω στον οποίο μπορούν να τρέξουν οι αλγόριθμοι με χρήση της συνάρτησης pathfinder(). Χρειάζεται να επιλέξετε κατάλληλα τα ορίσματα της pathfinder ώστε να καλέσετε το σωστό αλγόριθμο αναζήτησης σε κάθε ερώτημα. Εκτελέστε τα αντίστοιχα κελιά με τον κώδικα που σας δίνεται και παρουσιάστε την έξοδο αυτών. Φυσικά, εάν ένα ερώτημα περιλαμβάνει την εκτέλεση περισσότερων του ενός αλγορίθμου, αντιγράφετε τα αντίστοιχα κελιά για κάθε αλγόριθμο και τοποθετείτε τα σωστά ορίσματα. Τέλος, η show_gif() σας παρουσιάζει το animation, όπως και στο Μέρος 3.\n",
        "**Παρατήρηση:** εφόσον δε σας δίνεται/δεν έχετε υλοποιήσει τον Hill climbing, δε σας ζητείται να τον τρέξετε στο χάρτη που θα σχηματίσετε."
      ]
    },
    {
      "cell_type": "markdown",
      "metadata": {
        "id": "k4B8EEBhClt2"
      },
      "source": [
        "# Κώδικας visualization\n"
      ]
    },
    {
      "cell_type": "code",
      "execution_count": 1,
      "metadata": {
        "id": "fH9jHuU-Chps"
      },
      "outputs": [],
      "source": [
        "import numpy as np\n",
        "import matplotlib.pyplot as plt\n",
        "import matplotlib.animation as animation\n",
        "from matplotlib.animation import PillowWriter\n",
        "from IPython.display import HTML\n",
        "\n",
        "class visualization:\n",
        "    def __init__(self, S, F):\n",
        "        '''\n",
        "          Η μέθοδος αυτή αρχικοποιεί ένα αντικείμενο τύπου visualization.\n",
        "          Είσοδος: \n",
        "          -> S: το σημείο εκκίνσης της αναζήτησης\n",
        "          -> F: το σημείο τερματισμού\n",
        "        '''\n",
        "        self.S = S\n",
        "        self.F = F\n",
        "        self.images = []\n",
        "    \n",
        "    def draw_step(self, grid, frontier, expanded_nodes):\n",
        "        '''\n",
        "          Η συνάρτηση αυτή καλείται για να σχεδιαστεί ένα frame στο animation (πρακτικά έπειτα από την επέκταση κάθε κόμβου)\n",
        "          Είσοδος: \n",
        "          -> grid: Ένα χάρτης τύπου grid\n",
        "          -> frontier: Μια λίστα με τους κόμβους που ανήκουν στο μέτωπο της αναζήτησης\n",
        "          -> expanded_nodes: Μια λίστα με τους κόμβους που έχουν ήδη επεκταθεί\n",
        "          Επιστρέφει: None\n",
        "          Η συνάρτηση αυτή πρέπει να καλεστεί τουλάχιστον μια φορά για να μπορέσει να σχεδιαστει ένα animation (πρεπεί το animation να έχει τουλάχιστον ένα frame).\n",
        "        '''\n",
        "        image = np.zeros((grid.N, grid.N, 3), dtype=int)\n",
        "        image[~grid.grid] = [0, 0, 0]\n",
        "        image[grid.grid] = [255, 255, 255]\n",
        "        # Use this to treat 1/True as obstacles\n",
        "        # image[grid.grid] = [0, 0, 0]\n",
        "        # image[~grid.grid] = [255, 255, 255]\n",
        "        \n",
        "        for node in expanded_nodes:\n",
        "            image[node] = [0, 0, 128]\n",
        "\n",
        "        for node in frontier:\n",
        "            image[node] = [0, 225, 0]\n",
        "\n",
        "        image[self.S] = [50, 168, 64]\n",
        "        image[self.F] = [168, 50, 50]\n",
        "        self.images.append(image)\n",
        "    \n",
        "    def add_path(self, path):\n",
        "        '''\n",
        "          Η συνάρτηση αυτή προσθέτει στο τελευταίο frame το βέλτιστο μονοπάτι.\n",
        "          Είσοδος:\n",
        "          -> path: Μια λίστα η όποια περιέχει το βέλτιστο μονοπάτι (η οποία πρέπει να περιέχει και τον κόμβο αρχή και τον κόμβο στόχο)\n",
        "          Έξοδος: None\n",
        "        '''\n",
        "        for n in path[1:-1]:\n",
        "            image = np.copy(self.images[-1])\n",
        "            image[n] = [66, 221, 245]\n",
        "            self.images.append(image)\n",
        "        for _ in range (100):\n",
        "            self.images.append(image)\n",
        "        \n",
        "    def create_gif(self, fps = 30, repeat_delay = 2000):\n",
        "        if len(self.images) == 0:\n",
        "            raise EmptyStackOfImages(\"Error! You have to call 'draw_step' at  first.\")\n",
        "        fig = plt.figure()\n",
        "        plt.axis('off')\n",
        "        ims = []\n",
        "        for img in self.images:\n",
        "            img = plt.imshow(img)\n",
        "            ims.append([img])\n",
        "        ani = animation.ArtistAnimation(fig, ims, interval=1000//fps, blit=True, repeat_delay= repeat_delay)\n",
        "        plt.close(fig)\n",
        "        return ani\n",
        "        \n",
        "    def save_gif(self, filename, fps = 30):\n",
        "        '''\n",
        "            Η συνάρτηση αυτή ξαναδημιουργεί και αποθηκεύει το animation σε ένα αρχείο.\n",
        "            Είσοδος:\n",
        "            -> Το όνομα του αρχείου με κατάληξη .gif\n",
        "            Έξοδος: (None)\n",
        "        '''\n",
        "        ani = self.create_gif(fps)\n",
        "        writer = PillowWriter(fps= fps)\n",
        "        ani.save(filename, writer=writer)\n",
        "\n",
        "    def show_gif(self, fps= 30, repeat_delay = 2000):\n",
        "        '''\n",
        "            Η συνάρτηση αυτή εμφανίζει inline το animation.\n",
        "            Είσοδος:\n",
        "            -> fps: τα frames per second\n",
        "            Έξοδος: Το αντικείμενο που παίζει το animation\n",
        "            Exceptions: EmptyStackOfImages αν το animation δεν έχει ούτε ένα frame, δηλαδή αν η draw_step δεν έχει καλεστεί ποτέ.\n",
        "        '''\n",
        "        ani = self.create_gif(fps, repeat_delay)\n",
        "        # return HTML(ani.to_html5_video())\n",
        "        return HTML(ani.to_jshtml())\n",
        "\n",
        "    def show_last_frame(self):\n",
        "        '''\n",
        "            Η μέθοδος αυτή εμφανίζει inline το τελευταίο frame που έχει δημιουργήθει.\n",
        "            Είσοδος:\n",
        "            Έξοδος: Το αντικείμενο που εμφανίζει την εικόνα.\n",
        "            Exceptions: EmptyStackOfImages αν το animation δεν έχει ούτε ένα frame, δηλαδή αν η draw_step δεν έχει καλεστεί ποτέ.\n",
        "        '''\n",
        "        if len(self.images) == 0:\n",
        "            raise EmptyStackOfImages(\"Error! You have to call 'draw_step' at  first.\")\n",
        "        else:\n",
        "            plt.imshow(self.images[-1])\n",
        "\n",
        "\n",
        "class EmptyStackOfImages(Exception):\n",
        "    pass"
      ]
    },
    {
      "cell_type": "markdown",
      "metadata": {
        "id": "_HWZO0-MAHKz"
      },
      "source": [
        "# Λύση\n",
        "\n"
      ]
    },
    {
      "cell_type": "markdown",
      "metadata": {
        "id": "MTiD83XMoM5u"
      },
      "source": [
        "## Μέρος 1\n",
        "\n",
        "Στο παρακάτω κελί κώδικα σας δίνεται ο σκελετός της κλάσης ```Maze```, όπου και θα υλοποιήσετε τον αλγόριθμο κατασκευής λαβυρίνθων. Για να λειτουργεί σωστά η οπτικοποίηση, ο λαβύριθνος αναπαριστάται ως ένας $N\\times{N}$ boolean πίνακας στο attribute ```grid``` της κλάσης. Η τιμή ```False``` σε ένα κελί του πίνακα αναπαριστά την ύπαρξη εμποδίου στο σημείο αυτό, ενώ η τιμή ```True``` ελεύθερο κελί.\n",
        "\n",
        "\n",
        "Μπορείτε να τροποποιήσετε τον δοσμένο κώδικα όπως θέλετε."
      ]
    },
    {
      "cell_type": "code",
      "execution_count": 36,
      "metadata": {},
      "outputs": [
        {
          "name": "stdout",
          "output_type": "stream",
          "text": [
            "Requirement already satisfied: matplotlib in /home/atha/.local/lib/python3.8/site-packages (3.4.3)\n",
            "Requirement already satisfied: cycler>=0.10 in /home/atha/.local/lib/python3.8/site-packages (from matplotlib) (0.10.0)\n",
            "Requirement already satisfied: python-dateutil>=2.7 in /usr/lib/python3/dist-packages (from matplotlib) (2.7.3)\n",
            "Requirement already satisfied: pillow>=6.2.0 in /usr/lib/python3/dist-packages (from matplotlib) (7.0.0)\n",
            "Requirement already satisfied: pyparsing>=2.2.1 in /home/atha/.local/lib/python3.8/site-packages (from matplotlib) (3.0.1)\n",
            "Requirement already satisfied: numpy>=1.16 in /home/atha/.local/lib/python3.8/site-packages (from matplotlib) (1.21.3)\n",
            "Requirement already satisfied: kiwisolver>=1.0.1 in /home/atha/.local/lib/python3.8/site-packages (from matplotlib) (1.3.2)\n",
            "Requirement already satisfied: six in /usr/lib/python3/dist-packages (from cycler>=0.10->matplotlib) (1.14.0)\n",
            "Note: you may need to restart the kernel to use updated packages.\n",
            "Requirement already satisfied: numpy in /home/atha/.local/lib/python3.8/site-packages (1.21.3)\n",
            "Note: you may need to restart the kernel to use updated packages.\n"
          ]
        }
      ],
      "source": [
        "%pip install matplotlib\n",
        "%pip install numpy"
      ]
    },
    {
      "cell_type": "code",
      "execution_count": 2,
      "metadata": {
        "id": "t-BBg2eWAFN4"
      },
      "outputs": [],
      "source": [
        "%matplotlib inline\n",
        "import numpy as np\n",
        "from queue import LifoQueue\n",
        "import  random \n",
        "import matplotlib.pyplot as plt\n",
        "\n",
        "\n",
        "class Maze:\n",
        "    def __init__(self, N, S, F):\n",
        "\n",
        "      \"\"\"\n",
        "      N: integer that indicates the size of the NxN grid of the maze\n",
        "      S: pair of integers that indicates the coordinates of the starting point (S)\n",
        "      F: pair of integers that indicates the coordinates of the finish point (F)\n",
        "      You can add any other parameters you want to customize maze creation (e.g. variables that\n",
        "      control the creation of additional paths)\n",
        "      \"\"\"\n",
        "\n",
        "      assert N > 2\n",
        "\n",
        "      ## Make sure start and end are within the grid\n",
        "\n",
        "      assert S[0] < N-1\n",
        "      assert S[1] < N-1\n",
        "      assert F[0] < N-1\n",
        "      assert F[1] < N-1\n",
        "\n",
        "      assert S[0] > 0\n",
        "      assert S[1] > 0\n",
        "      assert F[0] > 0\n",
        "      assert F[1] > 0\n",
        "\n",
        "      # Add here any additional constraints your implementation may have\n",
        "\n",
        "      self.N = N\n",
        "      self.S = S\n",
        "      self.F = F\n",
        "\n",
        "      # Grid initialized with obstacles (array of 0/False)\n",
        "      # 1/True indicates available cells\n",
        "      self.grid = np.zeros((N, N), dtype=bool)\n",
        "      \n",
        "      ## YOUR CODE HERE      \n",
        "      self.randomized_DFS(N, S, F)\n",
        "\n",
        "    def randomized_DFS(self, N, S, F):\n",
        "        '''\n",
        "        * performs randomized DFS to build the maze\n",
        "        '''\n",
        "\n",
        "        def get_unvisited_neighbours(cell, visited):\n",
        "            i, j = cell\n",
        "            if i>N-1 or i<0 or j>N-1 or j<0:\n",
        "                raise Exception(f\"Ivalid cell with coordinates: ({i}, {j})\")\n",
        "            neighbours = set()\n",
        "            if i<N-1 and (i+1, j) not in visited:\n",
        "                neighbours.add((i+1, j))\n",
        "            if 0<i and (i-1, j) not in visited:\n",
        "                neighbours.add((i-1, j))\n",
        "            if j<N-1 and (i, j+1) not in visited:\n",
        "                neighbours.add((i, j+1))\n",
        "            if 0<j and (i, j-1) not in visited:\n",
        "                neighbours.add((i, j-1))\n",
        "            return neighbours\n",
        "\n",
        "        def remove_wall(cell):\n",
        "            i, j = cell\n",
        "            self.grid[i][j] = True\n",
        "      \n",
        "        def create_second_path():\n",
        "            '''\n",
        "            * uses the `get_the_extra_wall` method to get the required wall cell\n",
        "            * marks it as a passage\n",
        "            * this way it creates a Hamiltonian directed cycle with #edges>2 on the graph, ensuring the creation of a second path from S to F\n",
        "            '''\n",
        "\n",
        "            def get_the_extra_wall(cell):\n",
        "                '''\n",
        "                * forms a set with all the wall-neighbours that have at least two passes as their neighbours\n",
        "                * we can then return a random cell from this set\n",
        "                * it seems that the maze gets more 'interesting' if we pick the neighbour which is closer to the goal (manhattan distance)\n",
        "                '''\n",
        "\n",
        "                def manhattan(u, v):\n",
        "                    return abs(u[0]-v[0]) + abs(u[1]-v[1])\n",
        "                \n",
        "                def count_neighbour_passes(cell):\n",
        "                    '''\n",
        "                    * used by `get_the_extra_wall` method\n",
        "                    * it counts how many of the cell's neighbours (max 4) are marked as passes \n",
        "                    '''\n",
        "                    i, j = cell\n",
        "                    if i>N-1 or i<0 or j>N-1 or j<0:\n",
        "                        raise Exception(f\"Ivalid cell with coordinates: ({i}, {j})\")\n",
        "                    neighbours = set()\n",
        "                    if i<N-1 and self.grid[i+1][j]:\n",
        "                        neighbours.add((i+1, j))\n",
        "                    if 0<i and self.grid[i-1][j]:\n",
        "                        neighbours.add((i-1, j))\n",
        "                    if j<N-1 and self.grid[i][j+1]:\n",
        "                        neighbours.add((i, j+1))\n",
        "                    if 0<j and self.grid[i][j-1]:\n",
        "                        neighbours.add((i, j-1))\n",
        "                    return len(neighbours)\n",
        "\n",
        "                i, j = cell\n",
        "                if i>N-1 or i<0 or j>N-1 or j<0:\n",
        "                    raise Exception(f\"Ivalid cell with coordinates: ({i}, {j})\")\n",
        "\n",
        "                # fill the set with the valid neighbours\n",
        "                extra = set()\n",
        "                if i<N-1 and not self.grid[i+1][j] and count_neighbour_passes((i+1, j))>1:\n",
        "                    extra.add((i+1, j))\n",
        "                if 0<i and not self.grid[i-1][j] and count_neighbour_passes((i-1, j))>1:\n",
        "                    extra.add((i-1, j))\n",
        "                if j<N-1 and not self.grid[i][j+1] and count_neighbour_passes((i, j+1))>1:\n",
        "                    extra.add((i, j+1))\n",
        "                if 0<j and not self.grid[i][j-1] and count_neighbour_passes((i, j-1))>1:\n",
        "                    extra.add((i, j-1))\n",
        "                \n",
        "                # pick the one cell with the minimum manhattan distance from the F cell\n",
        "                if extra:\n",
        "                    minim = float('inf')\n",
        "                    minim_wall = None\n",
        "                    for wall in extra:\n",
        "                        d = manhattan(wall, F)\n",
        "                        if d < minim:\n",
        "                            minim, minim_wall = d, wall\n",
        "                    return minim_wall\n",
        "                else:\n",
        "                    return None\n",
        "        \n",
        "            wall = get_the_extra_wall(S)\n",
        "            if wall:\n",
        "                remove_wall(wall)\n",
        "\n",
        "        def create_more_random_paths():\n",
        "            '''\n",
        "            * randomly removes around 10% of the walls\n",
        "            * so that testing the solving algorithms later gets more interesting\n",
        "            '''\n",
        "            for i in range(self.N):\n",
        "                for j in range(self.N):\n",
        "                        if not self.grid[i][j] and random.randrange(10)>8:\n",
        "                            self.grid[i][j] = True\n",
        "\n",
        "\n",
        "        def mainn(second_path=True, multiple_paths=True):\n",
        "            # init\n",
        "            visited = set()\n",
        "            frontier = LifoQueue()\n",
        "            frontier.put(S)\n",
        "            visited.add(S)\n",
        "            direction = 'vertical'\n",
        "            # iterate\n",
        "            while not frontier.empty():\n",
        "\n",
        "                curr = frontier.get() \n",
        "                neighbours = get_unvisited_neighbours(curr, visited)\n",
        "                # edit it and expand only if it has unvisited neighbours\n",
        "                if neighbours:\n",
        "                    remove_wall(curr)\n",
        "                    visited.update(neighbours)\n",
        "\n",
        "                    # pick a random neighbour cell\n",
        "                    random_neighbour = random.sample(neighbours, 1)[0]\n",
        "                    # prioritize cells keeping direction for nicer appearance of the maze\n",
        "                    if random.randrange(10)>4:\n",
        "                        for cell in neighbours:\n",
        "                            if direction=='horizontal' and cell[0] == curr[0]:\n",
        "                                random_neighbour = cell\n",
        "                                break\n",
        "                            elif direction=='vertical' and cell[1] == curr[1]:\n",
        "                                random_neighbour = cell\n",
        "                                break\n",
        "                    else:\n",
        "                        direction = 'vertical' if direction=='horizontal' else 'horizontal'\n",
        "                    # prioritize the F cell to ensure we will unlock it first\n",
        "                    if F in neighbours:\n",
        "                        random_neighbour = F\n",
        "\n",
        "                    # expand\n",
        "                    for neighbour in neighbours:\n",
        "                        if neighbour!=random_neighbour:\n",
        "                            frontier.put(neighbour)\n",
        "                    # put the random_neighbour in the frontier to expand it sooner\n",
        "                    frontier.put(random_neighbour)\n",
        "                                       \n",
        "            if second_path:\n",
        "                create_second_path()\n",
        "            if multiple_paths:\n",
        "                create_more_random_paths()\n",
        "            \n",
        "\n",
        "        mainn(second_path=True, multiple_paths=True)\n",
        "\n",
        "    def draw_map(self, path=None):\n",
        "        \"\"\" Draws the maze as an image. Considers grid values of 0/False to represent obstacles and\n",
        "        values of 1/True to represent empty cells, but this can be customized. Obstacles are painted\n",
        "        black and empty cells are painted white. Starting point is painted green and finish point red.\n",
        "        Optionally accepts as a parameter a path within the maze which is painted blue. \n",
        "        \"\"\"\n",
        "        image = np.zeros((self.N, self.N, 3), dtype=int)\n",
        "        image[~self.grid] = [0, 0, 0]\n",
        "        image[self.grid] = [255, 255, 255]\n",
        "\n",
        "        # Uncomment the next 2 lines of code to treat 1/True as obstacles (and 0/False as free maze cells)\n",
        "        # image[self.grid] = [0, 0, 0]\n",
        "        # image[~self.grid] = [255, 255, 255]\n",
        "\n",
        "        image[self.S] = [50, 168, 64]\n",
        "        image[self.F] = [168, 50, 50]\n",
        "        if path:\n",
        "            for n in path[1:-1]:\n",
        "                image[n] = [66, 221, 245]\n",
        "\n",
        "        plt.imshow(image)\n",
        "        plt.xticks([])\n",
        "        plt.yticks([])\n",
        "        plt.show()"
      ]
    },
    {
      "cell_type": "markdown",
      "metadata": {
        "id": "mfGf9hhdno5p"
      },
      "source": [
        "Τρέξτε το παρακάτω κελί κώδικα πριν παραδώσετε την άσκηση για να φαίνονται παραδείγματα λαβυρίνθων. Μπορείτε να το τροποποιήσετε."
      ]
    },
    {
      "cell_type": "code",
      "execution_count": 3,
      "metadata": {
        "id": "9LK61zuVBCi2"
      },
      "outputs": [
        {
          "data": {
            "image/png": "[encoded data removed]",
            "text/plain": [
              "<Figure size 432x288 with 1 Axes>"
            ]
          },
          "metadata": {},
          "output_type": "display_data"
        },
        {
          "data": {
            "image/png": "[encoded data removed]",
            "text/plain": [
              "<Figure size 432x288 with 1 Axes>"
            ]
          },
          "metadata": {},
          "output_type": "display_data"
        },
        {
          "data": {
            "image/png": "[encoded data removed]",
            "text/plain": [
              "<Figure size 432x288 with 1 Axes>"
            ]
          },
          "metadata": {},
          "output_type": "display_data"
        },
        {
          "data": {
            "image/png": "[encoded data removed]",
            "text/plain": [
              "<Figure size 432x288 with 1 Axes>"
            ]
          },
          "metadata": {},
          "output_type": "display_data"
        }
      ],
      "source": [
        "for N, S, F in [(6, (2, 3), (4, 4)), (11, (1, 3), (7, 9)), (25, (3, 7), (23, 19)), (51, (9, 3), (41, 41))]:\n",
        "    map = Maze(N, S, F)\n",
        "    map.draw_map()"
      ]
    },
    {
      "cell_type": "markdown",
      "metadata": {
        "id": "UKhJ8VJDn4ra"
      },
      "source": [
        "### Σχολιασμός\n",
        "\n",
        "* Σκέφτομαι το ταμπλό ως έναν κατεθυνόμενο γράφο.\n",
        "* Τα κελιά αντιστοιχούν σε κορυφές.\n",
        "* Θεωρώ ότι κάθε κελί που μαρκάρεται ως πέρασμα, έχει μία ακμή προς κάθε γείτονά του (είτε αυτός είναι πέρασμα είτε είναι εμπόδιο)\n",
        "\n",
        "* Προφανώς μάρκαρα τα σημεία S και F ως περάσματα.\n",
        "* Χρησιμοποίησα randomized DFS για να κατασκευάσω τον λαβύρινθο με ένα μόνο μονοπάτι από την S στην F.\n",
        "\n",
        "* Η `ύπαρξη του μονοπατιού` εξασφαλίζεται από το ότι ο αλγόριθμος ξεκινάει από την S, επισκέπτεται συνεχώς νέους κόβμους, μαρκάρονται ως visited οι γείτονές τους, και προχωράμε με νέους κόμβους που έχουν ανεξερεύνητους γείτονες.\n",
        "    * Έτσι, θα φτάσουμε σίγουρα σε κάποιον γείτονα της F\n",
        "    * Από κάθε κόμβο, κατά την επιλογή του επόμενου γείτονα, δίνεται προτεραιότητα στην F, άρα στην συνέχεια θα φτάσουμε και στην F\n",
        "\n",
        "* Η `μοναδικότητα του μονοπατιού` εξασφαλίζεται από την χρήση του `set` με τα `visited` κελιά και πιο συγκεκριμένα από τις παρακάτω συνθήκες:\n",
        "    * Αφού χρησιμοποιούμε στοίβα, δίνεται προτεραιότητα στους νέους γείτονες \n",
        "    * Σε κάθε pop() από την στοίβα, το νέο κελί μαρκάρεται ως πέρασμα MONO εάν έχει non-visited γείτονες και όλοι αυτοί τοποθετούνται στην στοίβα\n",
        "    * Με τον ίδιο τρόπο, δηλαδή, που το `DFS σε έναν γράφο δεν σχηματίζει κύκλο`\n",
        "\n",
        "* Η ύπαρξη `τουλάχιστον δύο διαδρομών` ισοδυναμεί με την ύπαρξη `κύκλου Hamilton` με περισσότερες των 2 ακμών στον γράφο, που να διέρχεται από τον S.\n",
        "\n",
        "* Χρειάζεται άρα να `προσθέσω` τουλάχιστον ένα `πέρασμα`:\n",
        "    * από ένα κελί-τοίχο γετονικό του S, έστω W\n",
        "    * προς έναν γειτονικό κόμβο U (του W) που είναι πέρασμα (και δεν είναι ο S)\n",
        "    * αφού έτσι δημιουργώ και την ΝΕΑ διαδρομή S->W->U\n",
        "        * υπάρχει εκ κατασκευής του λαβυρίνθου διαδρομή U->...->F\n",
        "    * και υπήρχε ήδη κάποια διαδρομή S->...->F (είτε συμπεριλάμβανε το U είτε όχι) που δεν συμπεριλάμβανε το W\n",
        "    * πρόσθεσα νέα διαδρομή S->W->U->...->F\n",
        "* Άρα `έχω χτίσει δύο μονοπάτια από S->...->F με διαφορά σε τουλάχιστον έναν κόμβο` W\n",
        "    "
      ]
    },
    {
      "cell_type": "markdown",
      "metadata": {
        "id": "7XhekogLCJ1i"
      },
      "source": [
        "## Μέρος 2\n",
        "\n",
        "Παρακάτω σας δίνετε ο σκελετός της κλάσης Pathfinder η οποία αρχικοποιείται με ένα αντικείμενο ```Maze``` (από το πρώτο μέρος), τη συνάρτηση πραγματικού κόστους ```c``` και την ευριστική ```h```. Σε αυτήν θα υλοποιήσετε τον αλγόριθμο αναζήτησης Α*.\n",
        "\n"
      ]
    },
    {
      "cell_type": "code",
      "execution_count": 4,
      "metadata": {
        "id": "dXgXz9ZbCR2y"
      },
      "outputs": [],
      "source": [
        "class Pathfinder:\n",
        "    def __init__(self, maze, c, h):\n",
        "        \"\"\"\n",
        "        maze : Αντικείμενο τύπου Maze (από Μέρος 1)\n",
        "        c : Συνάρτηση που υπολογίζει την πραγματική απόσταση μεταξύ δύο σημείων\n",
        "        h : Συνάρτηση που υπολογίζει την ευριστική μεταξύ δύο σημείων\n",
        "        \"\"\"\n",
        "        self.maze = maze\n",
        "        self.vis = visualization(maze.S, maze.F)\n",
        "        self.path = []\n",
        "        self.cost = c\n",
        "        self.heuristic = h\n",
        "        \n",
        "        \n",
        "    ### Fill the path list with the coordinates of each point in the path from maze.S to maze.F\n",
        "    ### Your code here\n",
        "\n",
        "    def get_neighbours(self, parent, real_costs, expanded):\n",
        "        '''\n",
        "        * returns the neighbour cells of the cell 'state' that:\n",
        "        * are `not walls`\n",
        "        * are `not out of bounds`\n",
        "        * are `not already expanded with less cost`\n",
        "        '''\n",
        "        i, j = parent[:2]\n",
        "\n",
        "        def expanded_earlier(i2, j2):\n",
        "            \n",
        "            def less(c1):\n",
        "                if c1 is None:\n",
        "                    return False\n",
        "                return c1 < real_costs[parent]+self.cost(parent, (i2, j2))+np.finfo(float).tiny\n",
        "\n",
        "            nonlocal expanded\n",
        "            earlier = less(real_costs.get((i2, j2)))\n",
        "            return (i2, j2) in expanded and earlier\n",
        "\n",
        "        N = self.maze.N\n",
        "        if i>N-1 or i<0 or j>N-1 or j<0:\n",
        "            raise Exception(f\"Ivalid cell with coordinates: ({i}, {j})\")\n",
        "        \n",
        "        neighbours = []\n",
        "        if i<N-1 and not expanded_earlier(i+1, j) and self.maze.grid[i+1][j]:\n",
        "            neighbours.append((i+1, j))\n",
        "        if 0<i and not expanded_earlier(i-1, j) and self.maze.grid[i-1][j]:\n",
        "            neighbours.append((i-1, j))\n",
        "        if j<N-1 and not expanded_earlier(i, j+1) and self.maze.grid[i][j+1]:\n",
        "            neighbours.append((i, j+1))\n",
        "        if 0<j and not expanded_earlier(i, j-1) and self.maze.grid[i][j-1]:\n",
        "            neighbours.append((i, j-1))\n",
        "        return neighbours\n",
        "\n",
        "    def build_path(self, curr, parents):\n",
        "        '''\n",
        "        * `backtracks` using the `parents dictionary`\n",
        "        * returns a `list of cells` leading from `self.maze.S` to `self.maze.F`\n",
        "        '''\n",
        "        path = []\n",
        "        path.append(curr)\n",
        "        curr = parents[curr]\n",
        "        while parents[curr] != curr:\n",
        "            path.append(curr)\n",
        "            curr = parents[curr]\n",
        "        path.append(curr)\n",
        "        #print(path)\n",
        "        self.path = path\n",
        "    \n",
        "    def get_path(self, return_expanded_counter=False):\n",
        "        '''\n",
        "        * implements the `A*` search algorithm\n",
        "        * saves each cell as a tuple in a `frontier`\n",
        "        * keeps the dictionaries `real_costs` and `parents`\n",
        "        * keeps the set `expanded`\n",
        "        * while the frontier is not empty:\n",
        "            * pop current node\n",
        "            * mark current as expanded\n",
        "            * append to the frontier the neighbours that:\n",
        "                * are not already expanded with a better distance\n",
        "                * are not already in the frontier with a better distance\n",
        "            * sort the frontier in asceding order of: real_cost[node] + heuristic(node)\n",
        "        * if called with return_expanded_counter=True, returns a dictionary with the path and the number of the expanded nodes (for pt3 of the notebook)\n",
        "        '''\n",
        "        frontier = []\n",
        "        expanded = set()\n",
        "        real_costs = dict()\n",
        "        parents = dict()\n",
        "\n",
        "        # each state is represented as a tuple of: i, j\n",
        "        start = (self.maze.S[0], self.maze.S[1])\n",
        "        parents[start] = start\n",
        "        real_costs[start] = 0\n",
        "        frontier.append(start)\n",
        "\n",
        "        while len(frontier):\n",
        "            # print('---------------------------')\n",
        "            # print(f\"frontier({len(frontier)}):\", frontier)\n",
        "            # print(\"frontier:\")\n",
        "            # for node in frontier:\n",
        "            #     print(node, f\"({real_costs.get(node)}+{self.heuristic(node, self.maze.F)})\")\n",
        "            # print(f\"expanded({len(expanded)}):\", expanded)\n",
        "            curr = frontier.pop()\n",
        "            #print(\"current:\", curr, \"-- with best cost till now:\", real_costs[curr])\n",
        "            expanded.add(curr)\n",
        "            if curr == self.maze.F:\n",
        "                self.build_path(curr, parents)\n",
        "                #print(\"reached goal\")\n",
        "                break\n",
        "            \n",
        "            neighbours = self.get_neighbours(curr, real_costs, expanded)\n",
        "            #print(f\"Neighbours of {curr}: {neighbours}\")\n",
        "            \n",
        "            # check if neighbour is already in the frontier from a different path\n",
        "            # to keep the best one (with the lower cost)\n",
        "            for neighbour in neighbours:\n",
        "                \n",
        "                neighbour_real_cost = real_costs[curr] + self.cost(curr, neighbour) + np.finfo(float).tiny\n",
        "\n",
        "                #print(\"* checking neighbour:\", neighbour)\n",
        "                added_with_smaller_d = False\n",
        "                for node in frontier:\n",
        "                    # if node with same i, j already in frontier\n",
        "                    if neighbour[0]==node[0] and neighbour[1]==node[1]:\n",
        "                        #print(\"\\talready in frontier\", end=' ')\n",
        "                        # if the existing one has a shorter path, do not add the new one to the frontier\n",
        "                        if real_costs[node]<=neighbour_real_cost:\n",
        "                            added_with_smaller_d = True\n",
        "                            #print(node, \"with a shorter path than\", neighbour)\n",
        "                            break\n",
        "                        # else, add the new one to the frontier and remove the old one\n",
        "                        else:\n",
        "                            #print(node, \"with a longer path than\", neighbour)\n",
        "                            frontier.remove(node)\n",
        "                if not added_with_smaller_d:\n",
        "                    #print(f\"\\tadding {neighbour} to frontier\")\n",
        "                    frontier.append(neighbour)\n",
        "                    parents[neighbour] = curr\n",
        "                    real_costs[neighbour] = neighbour_real_cost\n",
        "            # print(\"unsorted frontier:\")\n",
        "            # for node in frontier:\n",
        "            #     print(node, f\"({real_costs.get(node)}+{self.heuristic(node, self.maze.F)})\")\n",
        "            # print('----')\n",
        "            frontier.sort(key= lambda node: real_costs[node]+self.heuristic(node, self.maze.F), reverse=True)\n",
        "            # print(\"sorted frontier:\")\n",
        "            # for node in frontier:\n",
        "            #     print(node, f\"({real_costs.get(node)}+{self.heuristic(node, self.maze.F)})\")\n",
        "            #print('----')\n",
        "        \n",
        "        if not return_expanded_counter: \n",
        "            return self.path\n",
        "        return {\n",
        "            'path': self.path,\n",
        "            'expanded': len(expanded),\n",
        "        }\n",
        "\n",
        "    def get_path_and_count_expanded(self):\n",
        "        '''\n",
        "        * uses `get_path` method\n",
        "        * returns a dictionary with the path and the number of expanded nodes\n",
        "        * will be used in pt3 of the notebook\n",
        "        '''\n",
        "        return self.get_path(return_expanded_counter=True)\n"
      ]
    },
    {
      "cell_type": "markdown",
      "metadata": {
        "id": "7mA1elqEy-GU"
      },
      "source": [
        "Για να δείτε το μονοπάτι που κατασκευάσατε, μπορείτε να καλείτε τη μέθοδο ```draw_map``` του αντικειμένου ```maze``` οπως φαίνεται στο παρακάτω κελί."
      ]
    },
    {
      "cell_type": "code",
      "execution_count": 5,
      "metadata": {},
      "outputs": [
        {
          "name": "stdout",
          "output_type": "stream",
          "text": [
            "Path with g=0, h=manhattan\n"
          ]
        },
        {
          "data": {
            "image/png": "[encoded data removed]",
            "text/plain": [
              "<Figure size 432x288 with 1 Axes>"
            ]
          },
          "metadata": {},
          "output_type": "display_data"
        },
        {
          "name": "stdout",
          "output_type": "stream",
          "text": [
            "Path with g=0, h=euclidean\n"
          ]
        },
        {
          "data": {
            "image/png": "[encoded data removed]",
            "text/plain": [
              "<Figure size 432x288 with 1 Axes>"
            ]
          },
          "metadata": {},
          "output_type": "display_data"
        },
        {
          "name": "stdout",
          "output_type": "stream",
          "text": [
            "Path with g=1, h=0\n"
          ]
        },
        {
          "data": {
            "image/png": "[encoded data removed]",
            "text/plain": [
              "<Figure size 432x288 with 1 Axes>"
            ]
          },
          "metadata": {},
          "output_type": "display_data"
        },
        {
          "name": "stdout",
          "output_type": "stream",
          "text": [
            "Path with g=1, h=manhattan\n"
          ]
        },
        {
          "data": {
            "image/png": "[encoded data removed]",
            "text/plain": [
              "<Figure size 432x288 with 1 Axes>"
            ]
          },
          "metadata": {},
          "output_type": "display_data"
        },
        {
          "name": "stdout",
          "output_type": "stream",
          "text": [
            "Path with g=1, h=euclidean\n"
          ]
        },
        {
          "data": {
            "image/png": "[encoded data removed]",
            "text/plain": [
              "<Figure size 432x288 with 1 Axes>"
            ]
          },
          "metadata": {},
          "output_type": "display_data"
        }
      ],
      "source": [
        "import math\n",
        "\n",
        "N = 70\n",
        "S = (1, 1)\n",
        "F = (68, 68)\n",
        "maze = Maze(N, S, F)\n",
        "\n",
        "# heuristics\n",
        "def manhattan(a, b):\n",
        "    return abs(a[0] - b[0]) + abs(a[1] - b[1])\n",
        "\n",
        "def euclidean(a, b):\n",
        "    dx = a[0]-b[0]\n",
        "    dy = a[1]-b[1]\n",
        "    return math.sqrt(dx**2 + dy**2)\n",
        "\n",
        "# methods (algorithms) that will be used \n",
        "methods = [\n",
        "    {\n",
        "        'cost_function':  lambda x, y: 0,\n",
        "        'heuristic': manhattan,\n",
        "        'description': \"Path with g=0, h=manhattan\",\n",
        "    },\n",
        "    {\n",
        "        'cost_function':  lambda x, y: 0,\n",
        "        'heuristic': euclidean,\n",
        "        \"description\": \"Path with g=0, h=euclidean\",\n",
        "    },\n",
        "    {\n",
        "        'cost_function':  lambda x, y: 1,\n",
        "        'heuristic': lambda x, y: 0,\n",
        "        'description': \"Path with g=1, h=0\"\n",
        "    },\n",
        "    {\n",
        "        'cost_function':  lambda x, y: 1,\n",
        "        'heuristic': manhattan,\n",
        "        'description': \"Path with g=1, h=manhattan\"\n",
        "    },\n",
        "    {\n",
        "        'cost_function':  lambda x, y: 1,\n",
        "        'heuristic': euclidean,\n",
        "        'description': \"Path with g=1, h=euclidean\"\n",
        "    },\n",
        "]\n",
        "\n",
        "# for each method, find and draw the path\n",
        "for method in methods:\n",
        "    cost_function, heuristic, description = method.values()\n",
        "    pf = Pathfinder(maze=maze, c = cost_function, h = heuristic)\n",
        "    print(f\"{description}\")\n",
        "    path = pf.get_path()\n",
        "    maze.draw_map(path)\n",
        "\n"
      ]
    },
    {
      "cell_type": "markdown",
      "metadata": {
        "id": "lulTcEPq0nMV"
      },
      "source": [
        "Για να χρονομετρήσετε το τρέξιμο ενός κελιού μπορείτε να χρησιμοποιήσετε το μαγικό ```%%time```"
      ]
    },
    {
      "cell_type": "code",
      "execution_count": 134,
      "metadata": {
        "id": "--yjHv6503F_"
      },
      "outputs": [
        {
          "name": "stdout",
          "output_type": "stream",
          "text": [
            "Path with g=0, h=manhattan : \t18.835067749023438 μs\n",
            "Path with g=0, h=euclidean : \t20.503997802734375 μs\n",
            "Path with g=1, h=0 : \t3.814697265625 μs\n",
            "Path with g=1, h=manhattan : \t3.5762786865234375 μs\n",
            "Path with g=1, h=euclidean : \t2.86102294921875 μs\n"
          ]
        }
      ],
      "source": [
        "import time\n",
        "\n",
        "# for each method, count the time needed to solve the same maze\n",
        "for method in methods:\n",
        "    cost_function, heuristic, description = method.values()\n",
        "    tic = time.time()\n",
        "    pf = Pathfinder(maze=maze, c = cost_function, h = heuristic)\n",
        "    tac = time.time()\n",
        "    print(f\"{description} : \\t{(tac-tic)*1000000} μs\")\n"
      ]
    },
    {
      "cell_type": "markdown",
      "metadata": {
        "id": "XmmqhRLfEjKj"
      },
      "source": [
        "## Μέρος 3\n",
        "\n",
        "Στο παρακάτω κελί σας δίνεται ένα παράδειγμα για την κατασκευή γραφικών παραστάσεων. Θα πρέπει να κατασκευάσετε τις δύο γραφικές παραστάσεις σύμφωνα με τα ζητούμενα της άσκησης."
      ]
    },
    {
      "cell_type": "code",
      "execution_count": 51,
      "metadata": {
        "colab": {
          "base_uri": "https://localhost:8080/",
          "height": 281
        },
        "id": "j_wp8ZuWtwEw",
        "outputId": "f7c67e3a-5674-4d91-bc94-a04c14cb03e7"
      },
      "outputs": [
        {
          "data": {
            "image/png": "[encoded data removed]",
            "text/plain": [
              "<Figure size 432x288 with 1 Axes>"
            ]
          },
          "metadata": {
            "needs_background": "light"
          },
          "output_type": "display_data"
        },
        {
          "data": {
            "image/png": "[encoded data removed]",
            "text/plain": [
              "<Figure size 1440x216 with 5 Axes>"
            ]
          },
          "metadata": {
            "needs_background": "light"
          },
          "output_type": "display_data"
        },
        {
          "data": {
            "image/png": "[encoded data removed]",
            "text/plain": [
              "<Figure size 432x288 with 1 Axes>"
            ]
          },
          "metadata": {
            "needs_background": "light"
          },
          "output_type": "display_data"
        },
        {
          "data": {
            "image/png": "[encoded data removed]",
            "text/plain": [
              "<Figure size 1440x216 with 5 Axes>"
            ]
          },
          "metadata": {
            "needs_background": "light"
          },
          "output_type": "display_data"
        }
      ],
      "source": [
        "\n",
        "'''\n",
        "for the different sizes of mazes in range(N_START, N_END):\n",
        "  generate and solve ITERS_PER_N mazes\n",
        "  compute the avg metrics\n",
        "  store\n",
        "plot\n",
        "'''\n",
        "\n",
        "N_START = 10\n",
        "N_END = 50\n",
        "ITERS_PER_N = 10\n",
        "\n",
        "\n",
        "def compute_stats():\n",
        "    map_sizes = []\n",
        "    path_lengths = dict()\n",
        "    nodes_expanded = dict()\n",
        "    for method in methods:\n",
        "        path_lengths[method['description']] = []\n",
        "        nodes_expanded[method['description']] = []\n",
        "    # for each maze size\n",
        "    for N in range(N_START, N_END):\n",
        "        map_sizes.append(N)\n",
        "        # keep a temp list for each method (algorithm)\n",
        "        # to extract the avg of all the ITERS_PER_N MAZES for this size\n",
        "        temp_path_lengths = dict()\n",
        "        temp_nodes_expanded = dict()\n",
        "        for method in methods:\n",
        "            temp_path_lengths[method['description']] = []\n",
        "            temp_nodes_expanded[method['description']] = []\n",
        "        # for each testing maze of this size\n",
        "        for _ in range(ITERS_PER_N):\n",
        "            # generate maze\n",
        "            S = (1, 1)\n",
        "            F = (N-2, N-2)\n",
        "            maze = Maze(N, S, F)\n",
        "            # for each method\n",
        "            for method in methods:\n",
        "                # solve\n",
        "                cost_function, heuristic, description = method.values()\n",
        "                pf = Pathfinder(maze=maze, c = cost_function, h = heuristic)\n",
        "                # compute path length and num of expanded nodes\n",
        "                res = pf.get_path_and_count_expanded()\n",
        "                path_length, expanded_nodes = len(res['path']), res['expanded']\n",
        "                # keep them in the corresponding temp list\n",
        "                temp_path_lengths[description].append(path_length)\n",
        "                temp_nodes_expanded[description].append(expanded_nodes)\n",
        "        # extract and store the average values\n",
        "        for method in temp_path_lengths:\n",
        "            l = temp_path_lengths[method]\n",
        "            avg = sum(l)/len(l)\n",
        "            path_lengths[method].append(avg)\n",
        "        for method in temp_nodes_expanded:\n",
        "            l = temp_nodes_expanded[method]\n",
        "            avg = sum(l)/len(l)\n",
        "            nodes_expanded[method].append(avg)\n",
        "    return {\n",
        "        'map_sizes': map_sizes,\n",
        "        'path_lengths': path_lengths,\n",
        "        'nodes_expanded': nodes_expanded\n",
        "    }\n",
        "\n",
        "def plot(computations):\n",
        "    '''\n",
        "    * plots the computed data\n",
        "    * `NOTE`: if we plot all the algorithms in the same diagram, there are overlappings that do not allow the reader to discrete all the plots\n",
        "    * so, we generate `multiple plots`, `two combining` all the algorithms, and `two seperate plots for each` algorithm   \n",
        "    '''\n",
        "\n",
        "    map_sizes = computations['map_sizes']\n",
        "    path_lengths = computations['path_lengths']\n",
        "    nodes_expanded = computations['nodes_expanded']\n",
        "    \n",
        "    figures = [\n",
        "        {\n",
        "            'dict': path_lengths,\n",
        "            'title': 'Path length',\n",
        "        },\n",
        "        {\n",
        "            'dict': nodes_expanded,\n",
        "            'title': 'Expanded nodes',\n",
        "        }\n",
        "    ]\n",
        "\n",
        "    # plot all the methods combined in one figure\n",
        "    def plot_combined_figure(index):\n",
        "        dictionary, title = figures[index]['dict'], figures[index]['title']\n",
        "        plt.figure(index+1)\n",
        "        for method_description in dictionary:\n",
        "            plt.plot(map_sizes, dictionary[method_description])\n",
        "        plt.legend([method['description'] for method in methods])\n",
        "        plt.title(f\"{title} vs map size\")\n",
        "        plt.show()\n",
        "\n",
        "    # generate a figure with a seperate subplot for each method\n",
        "    def plot_seperate_figures(index):\n",
        "        dictionary, title = figures[index]['dict'], figures[index]['title']\n",
        "        # create figure with subplots\n",
        "        fig, axs = plt.subplots(1, len(methods), figsize=(20, 3), sharey=True)\n",
        "        for j in range(len(methods)):\n",
        "            axs[j].plot(map_sizes, dictionary.get(methods[j]['description']))\n",
        "            axs[j].set_title(methods[j]['description'])\n",
        "        # labels\n",
        "        for ax in axs.flat:\n",
        "            ax.set(xlabel='map size', ylabel=title)\n",
        "        for ax in axs.flat:\n",
        "            ax.label_outer() \n",
        "    \n",
        "    for i in range(len(figures)):\n",
        "        plot_combined_figure(i)\n",
        "        plot_seperate_figures(i)\n",
        "\n",
        "computations = compute_stats()\n",
        "plot(computations)\n"
      ]
    },
    {
      "cell_type": "markdown",
      "metadata": {},
      "source": [
        "### Παρατηρήσεις\n",
        "\n",
        "* Επέλεξα, εκτός από τα συνδυαστικά διαγράμματα όπου σχεδιάζαμε τις γραφικές για όλες τις μεθόδους σε κοινό σύστημα αξόνων, να σχεδιάσω τις ίδιες γραφικές και σε χωριστά συστήματα, επειδή στα συνδυαστικά διαγράμματα, λόγω επικαλύψεων των γραφικών, δεν φαίνονται ξεκάθαρα όλοι οι αλγόριθμοι.\n",
        "\n",
        "#### Μήκος μονοπατιού\n",
        "* Παρατηρώ ότι αλλαγές στην ευρυστική h δεν επηρεάζουν ιδιαίτερα το αποτέλεσμα.\n",
        "* Ο κύριος παράγοντας είναι η συνάρτηση πραγματικού κόστους μετάβασης (g) από το ένα κελί στο άλλο, αφού η αλλαγή της από 0 σε 1, μειώνει το μήκος του μονοπατιού κατά ένα ποσοστό της τάξης του 30% \n",
        "\n",
        "#### Πλήθος κόμβων που έχουν επεκταθεί\n",
        "* Εδώ παρατηρώ ότι το αποτέλεσμα επηρεάζεται σημαντικά και από την ευρυστική συνάρτηση h και από την συνάρτηση πραγματικού κόστους g.\n",
        "* Για σταθερό g=0, παρατηρώ ότι οι αποδόσεις των heuristics manhattan και euclidean είναι παρόμοιες.\n",
        "* Αλλά για σταθερό g=1, παρατηρώ ότι πιο συμφέρον είναι το heuristic manhattan, ακολουθεί το euclidean, και τέλος για h=0 παρατηρούμε την χειρότερη απόδοση.\n",
        "* Για την ίδια heuristic function (είτε manhattan, είτε euclidean), παρατηρώ ότι η μετάβαση από g=0 σε g=1 αυξάνει σημαντικά το πλήθος των κόμβων του κλειστού συνόλου.\n",
        "\n",
        "#### Συνολικά\n",
        "* Για g=0, παρατηρώ ένα tradeoff μεταξύ των δύο μεγεθών, αφού οι αγόριθμοι με μέγιστο path size χαρακτηρίζονται από ελάχιστον μέγεθος κλειστού συνόλου\n",
        "* Οι περιπτώσεις με (g=1, h=0) και (g=1, h=euclidean) αποτελούν ενδιάμεσες περιπτώσεις.\n",
        "* Ο πιο ισορροπημένος αλγόριθμος παρατηρείται για g=1, h=manhattan αφού παρουσιάζει από τα ελάχιστα μήκη μονοπατιού και το μικρότερο μέγεθος κλειστού συνόλου από τους αλγορίθμους με g=1. "
      ]
    },
    {
      "cell_type": "markdown",
      "metadata": {
        "id": "u3Ar_h-6EbZ6"
      },
      "source": [
        "## Μέρος 4\n",
        "\n",
        "Σας δίνεται η συνάρτηση ```draw(filename='filename.png')``` η οποία παράγει ένα interactive grid ώστε να σχηματίσετε το λαβύρινθο. Θεωρήστε ως μαύρο το χρώμα του εμποδίου, πράσινο την αφετηρία και κόκκινο το στόχο, και πατήστε finish για να ολοκληρωθεί η εκτέλεση του τρέχοντος κελιού. Σε περίπτωση που θέλετε να παράξετε νέο λαβύρινθο, απλά ξανατρέξτε το κελί, επιλέξτε τα τετράγωνα και πατήστε finish. Κάθε εκτέλεση αποθηκεύει την εικόνα σε μορφή png σε όνομα που μπορείτε να καθορίσετε μέσω του filename (τοποθετώντας και την κατάληξη .png) κατά την κλήση της συνάρτησης.  \n",
        "\n",
        "Μπορείτε να το δοκιμάσετε τρέχοντας το επόμενο κελί κώδικα.\n"
      ]
    },
    {
      "cell_type": "code",
      "execution_count": 137,
      "metadata": {
        "colab": {
          "base_uri": "https://localhost:8080/",
          "height": 400
        },
        "id": "k58iY7EPSa_m",
        "outputId": "060af556-56c7-492b-e890-4e77a114bbc9"
      },
      "outputs": [
        {
          "ename": "ModuleNotFoundError",
          "evalue": "No module named 'google.colab'",
          "output_type": "error",
          "traceback": [
            "\u001b[0;31m---------------------------------------------------------------------------\u001b[0m",
            "\u001b[0;31mModuleNotFoundError\u001b[0m                       Traceback (most recent call last)",
            "\u001b[0;32m/tmp/ipykernel_3642/2374194022.py\u001b[0m in \u001b[0;36m<module>\u001b[0;34m\u001b[0m\n\u001b[1;32m      1\u001b[0m \u001b[0;32mfrom\u001b[0m \u001b[0mIPython\u001b[0m\u001b[0;34m.\u001b[0m\u001b[0mdisplay\u001b[0m \u001b[0;32mimport\u001b[0m \u001b[0mHTML\u001b[0m\u001b[0;34m,\u001b[0m \u001b[0mImage\u001b[0m\u001b[0;34m\u001b[0m\u001b[0;34m\u001b[0m\u001b[0m\n\u001b[0;32m----> 2\u001b[0;31m \u001b[0;32mfrom\u001b[0m \u001b[0mgoogle\u001b[0m\u001b[0;34m.\u001b[0m\u001b[0mcolab\u001b[0m\u001b[0;34m.\u001b[0m\u001b[0moutput\u001b[0m \u001b[0;32mimport\u001b[0m \u001b[0meval_js\u001b[0m\u001b[0;34m\u001b[0m\u001b[0;34m\u001b[0m\u001b[0m\n\u001b[0m\u001b[1;32m      3\u001b[0m \u001b[0;32mfrom\u001b[0m \u001b[0mbase64\u001b[0m \u001b[0;32mimport\u001b[0m \u001b[0mb64decode\u001b[0m\u001b[0;34m\u001b[0m\u001b[0;34m\u001b[0m\u001b[0m\n\u001b[1;32m      4\u001b[0m \u001b[0;32mimport\u001b[0m \u001b[0mPIL\u001b[0m\u001b[0;34m\u001b[0m\u001b[0;34m\u001b[0m\u001b[0m\n\u001b[1;32m      5\u001b[0m \u001b[0;34m\u001b[0m\u001b[0m\n",
            "\u001b[0;31mModuleNotFoundError\u001b[0m: No module named 'google.colab'"
          ]
        }
      ],
      "source": [
        "from IPython.display import HTML, Image\n",
        "from google.colab.output import eval_js\n",
        "from base64 import b64decode\n",
        "import PIL\n",
        "\n",
        "\n",
        "canvas_html = \"\"\"\n",
        "<canvas width=301 height=301></canvas>\n",
        "<br>\n",
        "\n",
        "<button id = \"start\" style=\"background-color: #008000\">Start</button>\n",
        "<button id = \"end\" style=\"background-color: #800000\">End</button>\n",
        "<button id = \"finish\">Finish</button>\n",
        "<script>\n",
        "\n",
        "var canvas = document.querySelector('canvas')\n",
        "var ctx = canvas.getContext('2d')\n",
        "\n",
        "for (var x = 0.5; x < 301; x += 20) {\n",
        "  ctx.moveTo(x, 0);\n",
        "  ctx.lineTo(x, 300);\n",
        "}\n",
        "\n",
        "for (var y = 0.5; y < 301; y += 20) {\n",
        "  ctx.moveTo(0, y);\n",
        "  ctx.lineTo(300, y);\n",
        "}\n",
        "\n",
        "ctx.strokeStyle = \"#000\";\n",
        "ctx.stroke();\n",
        "\n",
        "var button = document.getElementById('finish')\n",
        "var start_button = document.getElementById('start')\n",
        "var end_button = document.getElementById('end')\n",
        "\n",
        "\n",
        "start_button.onclick = ()=>{\n",
        "    ctx.fillStyle=\"#008000\";\n",
        "  }\n",
        "\n",
        "end_button.onclick = ()=>{\n",
        "    ctx.fillStyle=\"#800000\";\n",
        "  }\n",
        "   \n",
        "\n",
        "var mouse = {x: 0, y: 0}\n",
        "canvas.addEventListener('mousemove', function(e) {\n",
        "  mouse.x = e.pageX - this.offsetLeft\n",
        "  mouse.y = e.pageY - this.offsetTop\n",
        "})\n",
        "\n",
        "function getMousePos(canvas, evt) {\n",
        "        var rect = canvas.getBoundingClientRect();\n",
        "        return {\n",
        "          x: evt.x - rect.left,\n",
        "          y: evt.y - rect.top\n",
        "        };\n",
        "      }\n",
        "\n",
        "function getNearestSquare(position) {\n",
        "    var x = position.x;\n",
        "    var y = position.y;\n",
        "\n",
        "    if (x < 0 || y < 0) return null;\n",
        "    x = (Math.floor(x / 20) * 20) + 0.5\n",
        "    y = (Math.floor(y / 20) * 20) + 0.5\n",
        "    return {x: x, y: y};\n",
        "}\n",
        "\n",
        "function containsObject(obj, list) {\n",
        "    var i;\n",
        "    for (i = 0; i < list.length; i++) {\n",
        "        if (list[i].x === obj.x && list[i].y == obj.y) {\n",
        "            return i;\n",
        "        }\n",
        "    }\n",
        "    return -1;\n",
        "}\n",
        "\n",
        "borders = []\n",
        "\n",
        "canvas.onmousedown = ()=>{\n",
        "    var pos = getNearestSquare(getMousePos(canvas, mouse));\n",
        "    if (pos != null) {\n",
        "        index = containsObject(pos, borders)\n",
        "        if (index != -1){\n",
        "            borders.splice(index, 1)\n",
        "            ctx.clearRect(pos.x + 1, pos.y, 19, 19)\n",
        "        }\n",
        "        else{\n",
        "            ctx.fillRect(pos.x+1,pos.y+1,18,18);\n",
        "            borders.push(pos)\n",
        "        }\n",
        "        ctx.fillStyle=\"#000000\";\n",
        "    }\n",
        "}\n",
        "var data = new Promise(resolve=>{\n",
        "  button.onclick = ()=>{\n",
        "    resolve(canvas.toDataURL('image/png'))\n",
        "  }\n",
        "})\n",
        "</script>\n",
        "\"\"\"\n",
        "\n",
        "def draw(filename='drawing.png'):\n",
        "  display(HTML(canvas_html))\n",
        "  data = eval_js(\"data\")\n",
        "  print (data)\n",
        "  binary = b64decode(data.split(',')[1])\n",
        "  with open(filename, 'wb') as f:\n",
        "    f.write(binary)\n",
        "  return len(binary)\n",
        "\n",
        "\n",
        "draw()"
      ]
    },
    {
      "cell_type": "markdown",
      "metadata": {
        "id": "aeYumpL5FrUF"
      },
      "source": [
        "Οι συναρτήσεις στο παρακάτω κελί κώδικα είναι βοηθητικές. Μετατρέπουν την εικόνα που αποθηκεύεται από την ```draw``` του προηγούμενου κελιου ξανά σε αντικείμενο τύπου Maze για να μπορέσετε να τρέξετε τους αλγορίθμους που έχετε υλοποιήσει καθώς και τον κώδικα visualization που σας δίνεται."
      ]
    },
    {
      "cell_type": "code",
      "execution_count": null,
      "metadata": {
        "colab": {
          "base_uri": "https://localhost:8080/",
          "height": 252
        },
        "id": "D8fS2Z9Xg4fS",
        "outputId": "a5daf735-1f5d-49ec-f0b4-1c93f20c1f40"
      },
      "outputs": [
        {
          "data": {
            "image/png": "[encoded data removed]",
            "text/plain": [
              "<Figure size 432x288 with 1 Axes>"
            ]
          },
          "metadata": {},
          "output_type": "display_data"
        }
      ],
      "source": [
        "def find_points(image_array, pixels):\n",
        "    points = []\n",
        "    for grid_i, i in enumerate(range (10, image_array.shape[0]-10, 20)):\n",
        "        for grid_j, j in enumerate(range (10, image_array.shape[1]-10, 20)):\n",
        "            if np.array_equal(image_array[i][j], pixels):\n",
        "                points.append([grid_i+1, grid_j+1])\n",
        "    return points\n",
        "\n",
        "def load_maze(fname='/content/drawing.png'):\n",
        "    N = 17\n",
        "    image = PIL.Image.open(fname)\n",
        "    image_array = np.round(np.array(image)/255)\n",
        "\n",
        "    start_x, start_y = find_points(image_array, [0,1,0,1])[0]\n",
        "    end_x, end_y = find_points(image_array, [1, 0, 0, 1])[0]\n",
        "    walls = find_points(image_array, [0, 0, 0, 1])\n",
        "    new_grid = Maze(N, (start_x, start_y), (end_x, end_y))\n",
        "\n",
        "    for i in range(N):\n",
        "        for j in range(N):\n",
        "            if [i, j] in walls:\n",
        "                new_grid.grid[i,j] = 0\n",
        "            else:\n",
        "                new_grid.grid[i, j] = 1\n",
        "\n",
        "    g = new_grid\n",
        "    g.draw_map()\n",
        "    return g\n"
      ]
    },
    {
      "cell_type": "markdown",
      "metadata": {
        "id": "8o3F5sGT1YNm"
      },
      "source": [
        "\n",
        "Υπενθυμίζεται ότι το output των κελιών που σχηματίζετε διατηρείται για περιορισμένο χρονικό διάστημα στο notebook, γι αυτό καλείστε να αποθηκεύσετε τη φωτογραφία (το πραγματοποιεί η συνάρτηση draw()) και να τη μεταφέρετε στο ανάλογο markdown."
      ]
    },
    {
      "cell_type": "markdown",
      "metadata": {
        "id": "tprNeqaPIdlW"
      },
      "source": [
        "### 4.1.  "
      ]
    },
    {
      "cell_type": "code",
      "execution_count": null,
      "metadata": {
        "id": "vF3u1cCeIo9H"
      },
      "outputs": [],
      "source": [
        "draw(filename='4.1.png')"
      ]
    },
    {
      "cell_type": "markdown",
      "metadata": {
        "id": "QjwsOf63Ir7V"
      },
      "source": [
        "#### Εισάγετε εδώ τη φωτογραφία όπως αυτή προέκυψε από την εκτέλεση και αλληλεπίδραση με το παραπάνω κελί.  \n",
        "\n",
        "\n",
        "#### Εισάγετε εδώ το σχολιασμό σας    \n",
        "\n",
        "\n",
        "\n",
        "Υπενθύμιση: για τον Hill Climbing δε χρειάζετει να τρέξετε τον αλγόριθμο στο χάρτη που σχηματίσατε, αρκεί ο σχολιασμός"
      ]
    },
    {
      "cell_type": "markdown",
      "metadata": {
        "id": "CxyUgnTaIhHa"
      },
      "source": [
        "### 4.2.  "
      ]
    },
    {
      "cell_type": "code",
      "execution_count": null,
      "metadata": {
        "id": "ZT1RxaUJJBok"
      },
      "outputs": [],
      "source": [
        "draw(filename='4.2.png')"
      ]
    },
    {
      "cell_type": "markdown",
      "metadata": {
        "id": "2whQnhT7JGbR"
      },
      "source": [
        "#### Εισάγετε εδώ τη φωτογραφία όπως αυτή προέκυψε από την εκτέλεση και αλληλεπίδραση με το παραπάνω κελί.  \n",
        "\n",
        "\n",
        "#### Εισάγετε εδώ το σχολιασμό σας "
      ]
    },
    {
      "cell_type": "code",
      "execution_count": null,
      "metadata": {
        "id": "mSCwE_MZ9Ewa"
      },
      "outputs": [],
      "source": [
        "g = load_maze('4.2.png')"
      ]
    },
    {
      "cell_type": "code",
      "execution_count": null,
      "metadata": {
        "id": "a-M664IJ9GR-"
      },
      "outputs": [],
      "source": [
        "pf = Pathfinder(g, c, h)   # change arguments to choose the appropriate pathfinding algorithm and cost/heuristic (if applicable)\n",
        "g.draw_map(pf.get_path())"
      ]
    },
    {
      "cell_type": "code",
      "execution_count": null,
      "metadata": {
        "id": "ZCb5j2Ul_uCo"
      },
      "outputs": [],
      "source": [
        "pf.vis.show_gif()"
      ]
    },
    {
      "cell_type": "markdown",
      "metadata": {
        "id": "rqqmkt3U_9q1"
      },
      "source": [
        "### 4.3."
      ]
    },
    {
      "cell_type": "code",
      "execution_count": null,
      "metadata": {
        "id": "UwqILZmBJjJ-"
      },
      "outputs": [],
      "source": [
        "draw(filename='4.3.png')"
      ]
    },
    {
      "cell_type": "markdown",
      "metadata": {
        "id": "-A3mBvHiJoQq"
      },
      "source": [
        "#### Εισάγετε εδώ τη φωτογραφία όπως αυτή προέκυψε από την εκτέλεση και αλληλεπίδραση με το παραπάνω κελί.  \n",
        "\n",
        "\n",
        "#### Εισάγετε εδώ το σχολιασμό σας "
      ]
    },
    {
      "cell_type": "code",
      "execution_count": null,
      "metadata": {
        "id": "apabzO95ACov"
      },
      "outputs": [],
      "source": [
        "g = load_maze('4.3.png')"
      ]
    },
    {
      "cell_type": "code",
      "execution_count": null,
      "metadata": {
        "id": "V1s5kFo5ADsb"
      },
      "outputs": [],
      "source": [
        "pf = Pathfinder(g, c, h)   # change arguments to choose the appropriate pathfinding algorithm and cost/heuristic (if applicable)\n",
        "g.draw_map(pf.get_path())"
      ]
    },
    {
      "cell_type": "code",
      "execution_count": null,
      "metadata": {
        "id": "gdTJbRpmAD0X"
      },
      "outputs": [],
      "source": [
        "pf.vis.show_gif()"
      ]
    },
    {
      "cell_type": "markdown",
      "metadata": {
        "id": "x41xMK-VAGHp"
      },
      "source": [
        "### 4.4.  "
      ]
    },
    {
      "cell_type": "code",
      "execution_count": null,
      "metadata": {
        "id": "ndh3zuH4Jjyo"
      },
      "outputs": [],
      "source": [
        "draw(filename='4.4.png')"
      ]
    },
    {
      "cell_type": "markdown",
      "metadata": {
        "id": "UOEI0BCCJqFz"
      },
      "source": [
        "#### Εισάγετε εδώ τη φωτογραφία όπως αυτή προέκυψε από την εκτέλεση και αλληλεπίδραση με το παραπάνω κελί.  \n",
        "\n",
        "\n",
        "#### Εισάγετε εδώ το σχολιασμό σας "
      ]
    },
    {
      "cell_type": "code",
      "execution_count": null,
      "metadata": {
        "id": "ixRxVVOwAK8K"
      },
      "outputs": [],
      "source": [
        "g = load_maze('4.4.png')"
      ]
    },
    {
      "cell_type": "code",
      "execution_count": null,
      "metadata": {
        "id": "3Qrz7mawALUY"
      },
      "outputs": [],
      "source": [
        "pf = Pathfinder(g, c, h)   # change arguments to choose the appropriate pathfinding algorithm and cost/heuristic (if applicable)\n",
        "g.draw_map(pf.get_path())"
      ]
    },
    {
      "cell_type": "code",
      "execution_count": null,
      "metadata": {
        "id": "5ze26bEaALcm"
      },
      "outputs": [],
      "source": [
        "pf.vis.show_gif()"
      ]
    },
    {
      "cell_type": "markdown",
      "metadata": {
        "id": "KcKfD8ylAOpb"
      },
      "source": [
        "### 4.5.  "
      ]
    },
    {
      "cell_type": "code",
      "execution_count": null,
      "metadata": {
        "id": "tzK7U4PfJkIC"
      },
      "outputs": [],
      "source": [
        "draw(filename='4.5.png')"
      ]
    },
    {
      "cell_type": "markdown",
      "metadata": {
        "id": "gudt2lGiJrW0"
      },
      "source": [
        "#### Εισάγετε εδώ τη φωτογραφία όπως αυτή προέκυψε από την εκτέλεση και αλληλεπίδραση με το παραπάνω κελί.  \n",
        "\n",
        "\n",
        "#### Εισάγετε εδώ το σχολιασμό σας "
      ]
    },
    {
      "cell_type": "code",
      "execution_count": null,
      "metadata": {
        "id": "zT3sxMjVARhy"
      },
      "outputs": [],
      "source": [
        "g = load_maze('4.5.png')"
      ]
    },
    {
      "cell_type": "code",
      "execution_count": null,
      "metadata": {
        "id": "CVET3yUWATTB"
      },
      "outputs": [],
      "source": [
        "pf = Pathfinder(g, c, h)   # change arguments to choose the appropriate pathfinding algorithm and cost/heuristic (if applicable)\n",
        "g.draw_map(pf.get_path())"
      ]
    },
    {
      "cell_type": "code",
      "execution_count": null,
      "metadata": {
        "id": "oRtWfOvNATUr"
      },
      "outputs": [],
      "source": [
        "pf.vis.show_gif()"
      ]
    }
  ],
  "metadata": {
    "colab": {
      "collapsed_sections": [],
      "name": "AI_21_EX1.ipynb",
      "provenance": []
    },
    "interpreter": {
      "hash": "916dbcbb3f70747c44a77c7bcd40155683ae19c65e1c03b4aa3499c5328201f1"
    },
    "kernelspec": {
      "display_name": "Python 3.8.10 64-bit",
      "name": "python3"
    },
    "language_info": {
      "codemirror_mode": {
        "name": "ipython",
        "version": 3
      },
      "file_extension": ".py",
      "mimetype": "text/x-python",
      "name": "python",
      "nbconvert_exporter": "python",
      "pygments_lexer": "ipython3",
      "version": "3.8.10"
    }
  },
  "nbformat": 4,
  "nbformat_minor": 0
}
